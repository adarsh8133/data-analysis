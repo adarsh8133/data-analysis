{
 "cells": [
  {
   "cell_type": "code",
   "execution_count": 5,
   "id": "71e2368d",
   "metadata": {},
   "outputs": [],
   "source": [
    "import numpy as np\n",
    "import pandas as pd\n",
    "import matplotlib.pyplot as plt"
   ]
  },
  {
   "cell_type": "code",
   "execution_count": 6,
   "id": "0ea32745",
   "metadata": {},
   "outputs": [],
   "source": [
    "df = pd.read_csv('deliveries.csv')\n",
    "data = pd.read_csv('matches - matches.csv')"
   ]
  },
  {
   "cell_type": "code",
   "execution_count": 7,
   "id": "f98f2314",
   "metadata": {},
   "outputs": [
    {
     "name": "stdout",
     "output_type": "stream",
     "text": [
      "<class 'pandas.core.frame.DataFrame'>\n",
      "RangeIndex: 150460 entries, 0 to 150459\n",
      "Data columns (total 21 columns):\n",
      " #   Column            Non-Null Count   Dtype \n",
      "---  ------            --------------   ----- \n",
      " 0   match_id          150460 non-null  int64 \n",
      " 1   inning            150460 non-null  int64 \n",
      " 2   batting_team      150460 non-null  object\n",
      " 3   bowling_team      150460 non-null  object\n",
      " 4   over              150460 non-null  int64 \n",
      " 5   ball              150460 non-null  int64 \n",
      " 6   batsman           150460 non-null  object\n",
      " 7   non_striker       150460 non-null  object\n",
      " 8   bowler            150460 non-null  object\n",
      " 9   is_super_over     150460 non-null  int64 \n",
      " 10  wide_runs         150460 non-null  int64 \n",
      " 11  bye_runs          150460 non-null  int64 \n",
      " 12  legbye_runs       150460 non-null  int64 \n",
      " 13  noball_runs       150460 non-null  int64 \n",
      " 14  penalty_runs      150460 non-null  int64 \n",
      " 15  batsman_runs      150460 non-null  int64 \n",
      " 16  extra_runs        150460 non-null  int64 \n",
      " 17  total_runs        150460 non-null  int64 \n",
      " 18  player_dismissed  7438 non-null    object\n",
      " 19  dismissal_kind    7438 non-null    object\n",
      " 20  fielder           5369 non-null    object\n",
      "dtypes: int64(13), object(8)\n",
      "memory usage: 24.1+ MB\n"
     ]
    }
   ],
   "source": [
    "df.info()"
   ]
  },
  {
   "cell_type": "code",
   "execution_count": 8,
   "id": "579b0d93",
   "metadata": {},
   "outputs": [
    {
     "data": {
      "application/vnd.microsoft.datawrangler.viewer.v0+json": {
       "columns": [
        {
         "name": "batsman",
         "rawType": "object",
         "type": "string"
        },
        {
         "name": "0",
         "rawType": "int64",
         "type": "integer"
        }
       ],
       "ref": "21f8d2ac-7e31-4c97-af79-ff2f0aa88ce2",
       "rows": [
        [
         "CH Gayle",
         "266"
        ],
        [
         "SK Raina",
         "174"
        ],
        [
         "RG Sharma",
         "173"
        ],
        [
         "DA Warner",
         "160"
        ],
        [
         "V Kohli",
         "160"
        ],
        [
         "AB de Villiers",
         "158"
        ],
        [
         "MS Dhoni",
         "156"
        ],
        [
         "YK Pathan",
         "149"
        ],
        [
         "KA Pollard",
         "148"
        ],
        [
         "Yuvraj Singh",
         "141"
        ],
        [
         "RV Uthappa",
         "125"
        ],
        [
         "BB McCullum",
         "124"
        ],
        [
         "SR Watson",
         "122"
        ],
        [
         "DR Smith",
         "117"
        ],
        [
         "V Sehwag",
         "106"
        ],
        [
         "AC Gilchrist",
         "92"
        ],
        [
         "M Vijay",
         "89"
        ],
        [
         "GJ Maxwell",
         "82"
        ],
        [
         "AT Rayudu",
         "79"
        ],
        [
         "NV Ojha",
         "79"
        ],
        [
         "JP Duminy",
         "78"
        ],
        [
         "DA Miller",
         "78"
        ],
        [
         "SE Marsh",
         "78"
        ],
        [
         "S Dhawan",
         "71"
        ],
        [
         "KD Karthik",
         "71"
        ],
        [
         "MK Pandey",
         "65"
        ],
        [
         "DJ Hussey",
         "60"
        ],
        [
         "AM Rahane",
         "60"
        ],
        [
         "AJ Finch",
         "59"
        ],
        [
         "G Gambhir",
         "58"
        ],
        [
         "RA Jadeja",
         "57"
        ],
        [
         "WP Saha",
         "57"
        ],
        [
         "SV Samson",
         "57"
        ],
        [
         "JA Morkel",
         "55"
        ],
        [
         "MEK Hussey",
         "52"
        ],
        [
         "DJ Bravo",
         "48"
        ],
        [
         "LRPL Taylor",
         "46"
        ],
        [
         "SS Tiwary",
         "45"
        ],
        [
         "SPD Smith",
         "45"
        ],
        [
         "JH Kallis",
         "44"
        ],
        [
         "ML Hayden",
         "44"
        ],
        [
         "LMP Simmons",
         "44"
        ],
        [
         "BJ Hodge",
         "43"
        ],
        [
         "SC Ganguly",
         "42"
        ],
        [
         "Harbhajan Singh",
         "41"
        ],
        [
         "A Symonds",
         "41"
        ],
        [
         "KP Pietersen",
         "40"
        ],
        [
         "DPMD Jayawardene",
         "40"
        ],
        [
         "ST Jayasuriya",
         "39"
        ],
        [
         "MK Tiwary",
         "39"
        ]
       ],
       "shape": {
        "columns": 1,
        "rows": 301
       }
      },
      "text/plain": [
       "batsman\n",
       "CH Gayle         266\n",
       "SK Raina         174\n",
       "RG Sharma        173\n",
       "DA Warner        160\n",
       "V Kohli          160\n",
       "                ... \n",
       "Sohail Tanvir      1\n",
       "T Kohli            1\n",
       "T Henderson        1\n",
       "A Mithun           1\n",
       "A Choudhary        1\n",
       "Length: 301, dtype: int64"
      ]
     },
     "execution_count": 8,
     "metadata": {},
     "output_type": "execute_result"
    }
   ],
   "source": [
    "def run_rate(x):\n",
    "    mask = df['batsman_runs'] == x\n",
    "    return df[mask].groupby('batsman').size().sort_values(ascending=False)\n",
    "\n",
    "run_rate(6)"
   ]
  },
  {
   "cell_type": "code",
   "execution_count": 9,
   "id": "02b4f393",
   "metadata": {},
   "outputs": [
    {
     "data": {
      "application/vnd.microsoft.datawrangler.viewer.v0+json": {
       "columns": [
        {
         "name": "batsman",
         "rawType": "object",
         "type": "string"
        },
        {
         "name": "batsman_runs",
         "rawType": "float64",
         "type": "float"
        }
       ],
       "ref": "3f94b266-ecd7-493c-9b35-9fa2e8f97b47",
       "rows": [
        [
         "AB de Villiers",
         "211.05263157894737"
        ],
        [
         "DA Warner",
         "189.4736842105263"
        ],
        [
         "DA Miller",
         "186.66666666666666"
        ],
        [
         "V Kohli",
         "181.86813186813185"
        ],
        [
         "RG Sharma",
         "175.66844919786095"
        ],
        [
         "DJ Hussey",
         "175.2136752136752"
        ],
        [
         "RV Uthappa",
         "173.45454545454547"
        ],
        [
         "Yuvraj Singh",
         "171.12403100775194"
        ],
        [
         "JH Kallis",
         "170.56277056277057"
        ],
        [
         "MS Dhoni",
         "169.6078431372549"
        ]
       ],
       "shape": {
        "columns": 1,
        "rows": 10
       }
      },
      "text/plain": [
       "batsman\n",
       "AB de Villiers    211.052632\n",
       "DA Warner         189.473684\n",
       "DA Miller         186.666667\n",
       "V Kohli           181.868132\n",
       "RG Sharma         175.668449\n",
       "DJ Hussey         175.213675\n",
       "RV Uthappa        173.454545\n",
       "Yuvraj Singh      171.124031\n",
       "JH Kallis         170.562771\n",
       "MS Dhoni          169.607843\n",
       "Name: batsman_runs, dtype: float64"
      ]
     },
     "execution_count": 9,
     "metadata": {},
     "output_type": "execute_result"
    }
   ],
   "source": [
    "death_over = df[df['over'].isin([16,17,18,19,20])]\n",
    "all_batsman = death_over.groupby('batsman')['batsman_runs']\n",
    "runs = all_batsman.sum()\n",
    "ball = all_batsman.count()\n",
    "ball = ball[ball > 200]\n",
    "((runs/ball)*100).sort_values(ascending=False).head(10)"
   ]
  },
  {
   "cell_type": "markdown",
   "id": "7b7ed15d",
   "metadata": {},
   "source": []
  },
  {
   "cell_type": "code",
   "execution_count": 10,
   "id": "a595a3b0",
   "metadata": {},
   "outputs": [
    {
     "name": "stdout",
     "output_type": "stream",
     "text": [
      "shape (150460, 39)\n"
     ]
    },
    {
     "data": {
      "application/vnd.microsoft.datawrangler.viewer.v0+json": {
       "columns": [
        {
         "name": "index",
         "rawType": "int64",
         "type": "integer"
        },
        {
         "name": "match_id",
         "rawType": "int64",
         "type": "integer"
        },
        {
         "name": "inning",
         "rawType": "int64",
         "type": "integer"
        },
        {
         "name": "batting_team",
         "rawType": "object",
         "type": "string"
        },
        {
         "name": "bowling_team",
         "rawType": "object",
         "type": "string"
        },
        {
         "name": "over",
         "rawType": "int64",
         "type": "integer"
        },
        {
         "name": "ball",
         "rawType": "int64",
         "type": "integer"
        },
        {
         "name": "batsman",
         "rawType": "object",
         "type": "string"
        },
        {
         "name": "non_striker",
         "rawType": "object",
         "type": "string"
        },
        {
         "name": "bowler",
         "rawType": "object",
         "type": "string"
        },
        {
         "name": "is_super_over",
         "rawType": "int64",
         "type": "integer"
        },
        {
         "name": "wide_runs",
         "rawType": "int64",
         "type": "integer"
        },
        {
         "name": "bye_runs",
         "rawType": "int64",
         "type": "integer"
        },
        {
         "name": "legbye_runs",
         "rawType": "int64",
         "type": "integer"
        },
        {
         "name": "noball_runs",
         "rawType": "int64",
         "type": "integer"
        },
        {
         "name": "penalty_runs",
         "rawType": "int64",
         "type": "integer"
        },
        {
         "name": "batsman_runs",
         "rawType": "int64",
         "type": "integer"
        },
        {
         "name": "extra_runs",
         "rawType": "int64",
         "type": "integer"
        },
        {
         "name": "total_runs",
         "rawType": "int64",
         "type": "integer"
        },
        {
         "name": "player_dismissed",
         "rawType": "object",
         "type": "unknown"
        },
        {
         "name": "dismissal_kind",
         "rawType": "object",
         "type": "unknown"
        },
        {
         "name": "fielder",
         "rawType": "object",
         "type": "unknown"
        },
        {
         "name": "id",
         "rawType": "int64",
         "type": "integer"
        },
        {
         "name": "season",
         "rawType": "int64",
         "type": "integer"
        },
        {
         "name": "city",
         "rawType": "object",
         "type": "string"
        },
        {
         "name": "date",
         "rawType": "object",
         "type": "string"
        },
        {
         "name": "team1",
         "rawType": "object",
         "type": "string"
        },
        {
         "name": "team2",
         "rawType": "object",
         "type": "string"
        },
        {
         "name": "toss_winner",
         "rawType": "object",
         "type": "string"
        },
        {
         "name": "toss_decision",
         "rawType": "object",
         "type": "string"
        },
        {
         "name": "result",
         "rawType": "object",
         "type": "string"
        },
        {
         "name": "dl_applied",
         "rawType": "int64",
         "type": "integer"
        },
        {
         "name": "winner",
         "rawType": "object",
         "type": "string"
        },
        {
         "name": "win_by_runs",
         "rawType": "int64",
         "type": "integer"
        },
        {
         "name": "win_by_wickets",
         "rawType": "int64",
         "type": "integer"
        },
        {
         "name": "player_of_match",
         "rawType": "object",
         "type": "string"
        },
        {
         "name": "venue",
         "rawType": "object",
         "type": "string"
        },
        {
         "name": "umpire1",
         "rawType": "object",
         "type": "string"
        },
        {
         "name": "umpire2",
         "rawType": "object",
         "type": "string"
        },
        {
         "name": "umpire3",
         "rawType": "float64",
         "type": "float"
        }
       ],
       "ref": "82c3056f-7745-4687-ba5c-d27d22d9fc65",
       "rows": [
        [
         "0",
         "1",
         "1",
         "Sunrisers Hyderabad",
         "Royal Challengers Bangalore",
         "1",
         "1",
         "DA Warner",
         "S Dhawan",
         "TS Mills",
         "0",
         "0",
         "0",
         "0",
         "0",
         "0",
         "0",
         "0",
         "0",
         null,
         null,
         null,
         "1",
         "2017",
         "Hyderabad",
         "2017-04-05",
         "Sunrisers Hyderabad",
         "Royal Challengers Bangalore",
         "Royal Challengers Bangalore",
         "field",
         "normal",
         "0",
         "Sunrisers Hyderabad",
         "35",
         "0",
         "Yuvraj Singh",
         "Rajiv Gandhi International Stadium, Uppal",
         "AY Dandekar",
         "NJ Llong",
         null
        ],
        [
         "1",
         "1",
         "1",
         "Sunrisers Hyderabad",
         "Royal Challengers Bangalore",
         "1",
         "2",
         "DA Warner",
         "S Dhawan",
         "TS Mills",
         "0",
         "0",
         "0",
         "0",
         "0",
         "0",
         "0",
         "0",
         "0",
         null,
         null,
         null,
         "1",
         "2017",
         "Hyderabad",
         "2017-04-05",
         "Sunrisers Hyderabad",
         "Royal Challengers Bangalore",
         "Royal Challengers Bangalore",
         "field",
         "normal",
         "0",
         "Sunrisers Hyderabad",
         "35",
         "0",
         "Yuvraj Singh",
         "Rajiv Gandhi International Stadium, Uppal",
         "AY Dandekar",
         "NJ Llong",
         null
        ],
        [
         "2",
         "1",
         "1",
         "Sunrisers Hyderabad",
         "Royal Challengers Bangalore",
         "1",
         "3",
         "DA Warner",
         "S Dhawan",
         "TS Mills",
         "0",
         "0",
         "0",
         "0",
         "0",
         "0",
         "4",
         "0",
         "4",
         null,
         null,
         null,
         "1",
         "2017",
         "Hyderabad",
         "2017-04-05",
         "Sunrisers Hyderabad",
         "Royal Challengers Bangalore",
         "Royal Challengers Bangalore",
         "field",
         "normal",
         "0",
         "Sunrisers Hyderabad",
         "35",
         "0",
         "Yuvraj Singh",
         "Rajiv Gandhi International Stadium, Uppal",
         "AY Dandekar",
         "NJ Llong",
         null
        ],
        [
         "3",
         "1",
         "1",
         "Sunrisers Hyderabad",
         "Royal Challengers Bangalore",
         "1",
         "4",
         "DA Warner",
         "S Dhawan",
         "TS Mills",
         "0",
         "0",
         "0",
         "0",
         "0",
         "0",
         "0",
         "0",
         "0",
         null,
         null,
         null,
         "1",
         "2017",
         "Hyderabad",
         "2017-04-05",
         "Sunrisers Hyderabad",
         "Royal Challengers Bangalore",
         "Royal Challengers Bangalore",
         "field",
         "normal",
         "0",
         "Sunrisers Hyderabad",
         "35",
         "0",
         "Yuvraj Singh",
         "Rajiv Gandhi International Stadium, Uppal",
         "AY Dandekar",
         "NJ Llong",
         null
        ],
        [
         "4",
         "1",
         "1",
         "Sunrisers Hyderabad",
         "Royal Challengers Bangalore",
         "1",
         "5",
         "DA Warner",
         "S Dhawan",
         "TS Mills",
         "0",
         "2",
         "0",
         "0",
         "0",
         "0",
         "0",
         "2",
         "2",
         null,
         null,
         null,
         "1",
         "2017",
         "Hyderabad",
         "2017-04-05",
         "Sunrisers Hyderabad",
         "Royal Challengers Bangalore",
         "Royal Challengers Bangalore",
         "field",
         "normal",
         "0",
         "Sunrisers Hyderabad",
         "35",
         "0",
         "Yuvraj Singh",
         "Rajiv Gandhi International Stadium, Uppal",
         "AY Dandekar",
         "NJ Llong",
         null
        ]
       ],
       "shape": {
        "columns": 39,
        "rows": 5
       }
      },
      "text/html": [
       "<div>\n",
       "<style scoped>\n",
       "    .dataframe tbody tr th:only-of-type {\n",
       "        vertical-align: middle;\n",
       "    }\n",
       "\n",
       "    .dataframe tbody tr th {\n",
       "        vertical-align: top;\n",
       "    }\n",
       "\n",
       "    .dataframe thead th {\n",
       "        text-align: right;\n",
       "    }\n",
       "</style>\n",
       "<table border=\"1\" class=\"dataframe\">\n",
       "  <thead>\n",
       "    <tr style=\"text-align: right;\">\n",
       "      <th></th>\n",
       "      <th>match_id</th>\n",
       "      <th>inning</th>\n",
       "      <th>batting_team</th>\n",
       "      <th>bowling_team</th>\n",
       "      <th>over</th>\n",
       "      <th>ball</th>\n",
       "      <th>batsman</th>\n",
       "      <th>non_striker</th>\n",
       "      <th>bowler</th>\n",
       "      <th>is_super_over</th>\n",
       "      <th>...</th>\n",
       "      <th>result</th>\n",
       "      <th>dl_applied</th>\n",
       "      <th>winner</th>\n",
       "      <th>win_by_runs</th>\n",
       "      <th>win_by_wickets</th>\n",
       "      <th>player_of_match</th>\n",
       "      <th>venue</th>\n",
       "      <th>umpire1</th>\n",
       "      <th>umpire2</th>\n",
       "      <th>umpire3</th>\n",
       "    </tr>\n",
       "  </thead>\n",
       "  <tbody>\n",
       "    <tr>\n",
       "      <th>0</th>\n",
       "      <td>1</td>\n",
       "      <td>1</td>\n",
       "      <td>Sunrisers Hyderabad</td>\n",
       "      <td>Royal Challengers Bangalore</td>\n",
       "      <td>1</td>\n",
       "      <td>1</td>\n",
       "      <td>DA Warner</td>\n",
       "      <td>S Dhawan</td>\n",
       "      <td>TS Mills</td>\n",
       "      <td>0</td>\n",
       "      <td>...</td>\n",
       "      <td>normal</td>\n",
       "      <td>0</td>\n",
       "      <td>Sunrisers Hyderabad</td>\n",
       "      <td>35</td>\n",
       "      <td>0</td>\n",
       "      <td>Yuvraj Singh</td>\n",
       "      <td>Rajiv Gandhi International Stadium, Uppal</td>\n",
       "      <td>AY Dandekar</td>\n",
       "      <td>NJ Llong</td>\n",
       "      <td>NaN</td>\n",
       "    </tr>\n",
       "    <tr>\n",
       "      <th>1</th>\n",
       "      <td>1</td>\n",
       "      <td>1</td>\n",
       "      <td>Sunrisers Hyderabad</td>\n",
       "      <td>Royal Challengers Bangalore</td>\n",
       "      <td>1</td>\n",
       "      <td>2</td>\n",
       "      <td>DA Warner</td>\n",
       "      <td>S Dhawan</td>\n",
       "      <td>TS Mills</td>\n",
       "      <td>0</td>\n",
       "      <td>...</td>\n",
       "      <td>normal</td>\n",
       "      <td>0</td>\n",
       "      <td>Sunrisers Hyderabad</td>\n",
       "      <td>35</td>\n",
       "      <td>0</td>\n",
       "      <td>Yuvraj Singh</td>\n",
       "      <td>Rajiv Gandhi International Stadium, Uppal</td>\n",
       "      <td>AY Dandekar</td>\n",
       "      <td>NJ Llong</td>\n",
       "      <td>NaN</td>\n",
       "    </tr>\n",
       "    <tr>\n",
       "      <th>2</th>\n",
       "      <td>1</td>\n",
       "      <td>1</td>\n",
       "      <td>Sunrisers Hyderabad</td>\n",
       "      <td>Royal Challengers Bangalore</td>\n",
       "      <td>1</td>\n",
       "      <td>3</td>\n",
       "      <td>DA Warner</td>\n",
       "      <td>S Dhawan</td>\n",
       "      <td>TS Mills</td>\n",
       "      <td>0</td>\n",
       "      <td>...</td>\n",
       "      <td>normal</td>\n",
       "      <td>0</td>\n",
       "      <td>Sunrisers Hyderabad</td>\n",
       "      <td>35</td>\n",
       "      <td>0</td>\n",
       "      <td>Yuvraj Singh</td>\n",
       "      <td>Rajiv Gandhi International Stadium, Uppal</td>\n",
       "      <td>AY Dandekar</td>\n",
       "      <td>NJ Llong</td>\n",
       "      <td>NaN</td>\n",
       "    </tr>\n",
       "    <tr>\n",
       "      <th>3</th>\n",
       "      <td>1</td>\n",
       "      <td>1</td>\n",
       "      <td>Sunrisers Hyderabad</td>\n",
       "      <td>Royal Challengers Bangalore</td>\n",
       "      <td>1</td>\n",
       "      <td>4</td>\n",
       "      <td>DA Warner</td>\n",
       "      <td>S Dhawan</td>\n",
       "      <td>TS Mills</td>\n",
       "      <td>0</td>\n",
       "      <td>...</td>\n",
       "      <td>normal</td>\n",
       "      <td>0</td>\n",
       "      <td>Sunrisers Hyderabad</td>\n",
       "      <td>35</td>\n",
       "      <td>0</td>\n",
       "      <td>Yuvraj Singh</td>\n",
       "      <td>Rajiv Gandhi International Stadium, Uppal</td>\n",
       "      <td>AY Dandekar</td>\n",
       "      <td>NJ Llong</td>\n",
       "      <td>NaN</td>\n",
       "    </tr>\n",
       "    <tr>\n",
       "      <th>4</th>\n",
       "      <td>1</td>\n",
       "      <td>1</td>\n",
       "      <td>Sunrisers Hyderabad</td>\n",
       "      <td>Royal Challengers Bangalore</td>\n",
       "      <td>1</td>\n",
       "      <td>5</td>\n",
       "      <td>DA Warner</td>\n",
       "      <td>S Dhawan</td>\n",
       "      <td>TS Mills</td>\n",
       "      <td>0</td>\n",
       "      <td>...</td>\n",
       "      <td>normal</td>\n",
       "      <td>0</td>\n",
       "      <td>Sunrisers Hyderabad</td>\n",
       "      <td>35</td>\n",
       "      <td>0</td>\n",
       "      <td>Yuvraj Singh</td>\n",
       "      <td>Rajiv Gandhi International Stadium, Uppal</td>\n",
       "      <td>AY Dandekar</td>\n",
       "      <td>NJ Llong</td>\n",
       "      <td>NaN</td>\n",
       "    </tr>\n",
       "  </tbody>\n",
       "</table>\n",
       "<p>5 rows × 39 columns</p>\n",
       "</div>"
      ],
      "text/plain": [
       "   match_id  inning         batting_team                 bowling_team  over  \\\n",
       "0         1       1  Sunrisers Hyderabad  Royal Challengers Bangalore     1   \n",
       "1         1       1  Sunrisers Hyderabad  Royal Challengers Bangalore     1   \n",
       "2         1       1  Sunrisers Hyderabad  Royal Challengers Bangalore     1   \n",
       "3         1       1  Sunrisers Hyderabad  Royal Challengers Bangalore     1   \n",
       "4         1       1  Sunrisers Hyderabad  Royal Challengers Bangalore     1   \n",
       "\n",
       "   ball    batsman non_striker    bowler  is_super_over  ...  result  \\\n",
       "0     1  DA Warner    S Dhawan  TS Mills              0  ...  normal   \n",
       "1     2  DA Warner    S Dhawan  TS Mills              0  ...  normal   \n",
       "2     3  DA Warner    S Dhawan  TS Mills              0  ...  normal   \n",
       "3     4  DA Warner    S Dhawan  TS Mills              0  ...  normal   \n",
       "4     5  DA Warner    S Dhawan  TS Mills              0  ...  normal   \n",
       "\n",
       "   dl_applied               winner  win_by_runs  win_by_wickets  \\\n",
       "0           0  Sunrisers Hyderabad           35               0   \n",
       "1           0  Sunrisers Hyderabad           35               0   \n",
       "2           0  Sunrisers Hyderabad           35               0   \n",
       "3           0  Sunrisers Hyderabad           35               0   \n",
       "4           0  Sunrisers Hyderabad           35               0   \n",
       "\n",
       "   player_of_match                                      venue      umpire1  \\\n",
       "0     Yuvraj Singh  Rajiv Gandhi International Stadium, Uppal  AY Dandekar   \n",
       "1     Yuvraj Singh  Rajiv Gandhi International Stadium, Uppal  AY Dandekar   \n",
       "2     Yuvraj Singh  Rajiv Gandhi International Stadium, Uppal  AY Dandekar   \n",
       "3     Yuvraj Singh  Rajiv Gandhi International Stadium, Uppal  AY Dandekar   \n",
       "4     Yuvraj Singh  Rajiv Gandhi International Stadium, Uppal  AY Dandekar   \n",
       "\n",
       "    umpire2 umpire3  \n",
       "0  NJ Llong     NaN  \n",
       "1  NJ Llong     NaN  \n",
       "2  NJ Llong     NaN  \n",
       "3  NJ Llong     NaN  \n",
       "4  NJ Llong     NaN  \n",
       "\n",
       "[5 rows x 39 columns]"
      ]
     },
     "execution_count": 10,
     "metadata": {},
     "output_type": "execute_result"
    }
   ],
   "source": [
    "new = df.merge(data, left_on='match_id', right_on=\"id\") # merging two dataframes, match_id and id are common column...\n",
    "print(\"shape\",new.shape)\n",
    "new.head(5)"
   ]
  },
  {
   "cell_type": "code",
   "execution_count": 11,
   "id": "9274997e",
   "metadata": {},
   "outputs": [
    {
     "data": {
      "application/vnd.microsoft.datawrangler.viewer.v0+json": {
       "columns": [
        {
         "name": "index",
         "rawType": "int64",
         "type": "integer"
        },
        {
         "name": "season",
         "rawType": "int64",
         "type": "integer"
        },
        {
         "name": "batsman",
         "rawType": "object",
         "type": "string"
        },
        {
         "name": "batsman_runs",
         "rawType": "int64",
         "type": "integer"
        }
       ],
       "ref": "446b3247-ad9a-412a-b0ce-c5a7ae751068",
       "rows": [
        [
         "0",
         "2016",
         "V Kohli",
         "973"
        ],
        [
         "1",
         "2016",
         "DA Warner",
         "848"
        ],
        [
         "2",
         "2012",
         "CH Gayle",
         "733"
        ],
        [
         "3",
         "2013",
         "MEK Hussey",
         "733"
        ],
        [
         "4",
         "2013",
         "CH Gayle",
         "720"
        ],
        [
         "5",
         "2016",
         "AB de Villiers",
         "687"
        ],
        [
         "6",
         "2014",
         "RV Uthappa",
         "660"
        ],
        [
         "7",
         "2017",
         "DA Warner",
         "641"
        ],
        [
         "8",
         "2013",
         "V Kohli",
         "639"
        ],
        [
         "9",
         "2010",
         "SR Tendulkar",
         "618"
        ],
        [
         "10",
         "2008",
         "SE Marsh",
         "616"
        ],
        [
         "11",
         "2011",
         "CH Gayle",
         "608"
        ],
        [
         "12",
         "2012",
         "G Gambhir",
         "590"
        ],
        [
         "13",
         "2010",
         "JH Kallis",
         "572"
        ],
        [
         "14",
         "2009",
         "ML Hayden",
         "572"
        ],
        [
         "15",
         "2012",
         "S Dhawan",
         "569"
        ],
        [
         "16",
         "2014",
         "DR Smith",
         "566"
        ],
        [
         "17",
         "2015",
         "DA Warner",
         "562"
        ],
        [
         "18",
         "2012",
         "AM Rahane",
         "560"
        ],
        [
         "19",
         "2011",
         "V Kohli",
         "557"
        ],
        [
         "20",
         "2011",
         "SR Tendulkar",
         "553"
        ],
        [
         "21",
         "2014",
         "GJ Maxwell",
         "552"
        ],
        [
         "22",
         "2013",
         "SK Raina",
         "548"
        ],
        [
         "23",
         "2013",
         "SR Watson",
         "543"
        ],
        [
         "24",
         "2015",
         "AM Rahane",
         "540"
        ],
        [
         "25",
         "2015",
         "LMP Simmons",
         "540"
        ],
        [
         "26",
         "2013",
         "RG Sharma",
         "538"
        ],
        [
         "27",
         "2008",
         "G Gambhir",
         "534"
        ],
        [
         "28",
         "2010",
         "SK Raina",
         "528"
        ],
        [
         "29",
         "2014",
         "DA Warner",
         "528"
        ],
        [
         "30",
         "2014",
         "SK Raina",
         "523"
        ],
        [
         "31",
         "2008",
         "ST Jayasuriya",
         "514"
        ],
        [
         "32",
         "2015",
         "AB de Villiers",
         "513"
        ],
        [
         "33",
         "2013",
         "KD Karthik",
         "510"
        ],
        [
         "34",
         "2015",
         "V Kohli",
         "505"
        ],
        [
         "35",
         "2011",
         "SE Marsh",
         "504"
        ],
        [
         "36",
         "2016",
         "S Dhawan",
         "501"
        ],
        [
         "37",
         "2016",
         "G Gambhir",
         "501"
        ],
        [
         "38",
         "2017",
         "G Gambhir",
         "498"
        ],
        [
         "39",
         "2009",
         "AC Gilchrist",
         "495"
        ],
        [
         "40",
         "2012",
         "V Sehwag",
         "495"
        ],
        [
         "41",
         "2010",
         "SC Ganguly",
         "493"
        ],
        [
         "42",
         "2011",
         "MEK Hussey",
         "492"
        ],
        [
         "43",
         "2015",
         "CH Gayle",
         "491"
        ],
        [
         "44",
         "2016",
         "RG Sharma",
         "489"
        ],
        [
         "45",
         "2013",
         "AM Rahane",
         "488"
        ],
        [
         "46",
         "2015",
         "RG Sharma",
         "482"
        ],
        [
         "47",
         "2016",
         "AM Rahane",
         "480"
        ],
        [
         "48",
         "2012",
         "CL White",
         "479"
        ],
        [
         "49",
         "2017",
         "S Dhawan",
         "479"
        ]
       ],
       "shape": {
        "columns": 3,
        "rows": 1531
       }
      },
      "text/html": [
       "<div>\n",
       "<style scoped>\n",
       "    .dataframe tbody tr th:only-of-type {\n",
       "        vertical-align: middle;\n",
       "    }\n",
       "\n",
       "    .dataframe tbody tr th {\n",
       "        vertical-align: top;\n",
       "    }\n",
       "\n",
       "    .dataframe thead th {\n",
       "        text-align: right;\n",
       "    }\n",
       "</style>\n",
       "<table border=\"1\" class=\"dataframe\">\n",
       "  <thead>\n",
       "    <tr style=\"text-align: right;\">\n",
       "      <th></th>\n",
       "      <th>season</th>\n",
       "      <th>batsman</th>\n",
       "      <th>batsman_runs</th>\n",
       "    </tr>\n",
       "  </thead>\n",
       "  <tbody>\n",
       "    <tr>\n",
       "      <th>0</th>\n",
       "      <td>2016</td>\n",
       "      <td>V Kohli</td>\n",
       "      <td>973</td>\n",
       "    </tr>\n",
       "    <tr>\n",
       "      <th>1</th>\n",
       "      <td>2016</td>\n",
       "      <td>DA Warner</td>\n",
       "      <td>848</td>\n",
       "    </tr>\n",
       "    <tr>\n",
       "      <th>2</th>\n",
       "      <td>2012</td>\n",
       "      <td>CH Gayle</td>\n",
       "      <td>733</td>\n",
       "    </tr>\n",
       "    <tr>\n",
       "      <th>3</th>\n",
       "      <td>2013</td>\n",
       "      <td>MEK Hussey</td>\n",
       "      <td>733</td>\n",
       "    </tr>\n",
       "    <tr>\n",
       "      <th>4</th>\n",
       "      <td>2013</td>\n",
       "      <td>CH Gayle</td>\n",
       "      <td>720</td>\n",
       "    </tr>\n",
       "    <tr>\n",
       "      <th>...</th>\n",
       "      <td>...</td>\n",
       "      <td>...</td>\n",
       "      <td>...</td>\n",
       "    </tr>\n",
       "    <tr>\n",
       "      <th>1526</th>\n",
       "      <td>2011</td>\n",
       "      <td>VR Aaron</td>\n",
       "      <td>0</td>\n",
       "    </tr>\n",
       "    <tr>\n",
       "      <th>1527</th>\n",
       "      <td>2017</td>\n",
       "      <td>MM Patel</td>\n",
       "      <td>0</td>\n",
       "    </tr>\n",
       "    <tr>\n",
       "      <th>1528</th>\n",
       "      <td>2011</td>\n",
       "      <td>ND Doshi</td>\n",
       "      <td>0</td>\n",
       "    </tr>\n",
       "    <tr>\n",
       "      <th>1529</th>\n",
       "      <td>2011</td>\n",
       "      <td>S Nadeem</td>\n",
       "      <td>0</td>\n",
       "    </tr>\n",
       "    <tr>\n",
       "      <th>1530</th>\n",
       "      <td>2011</td>\n",
       "      <td>SK Trivedi</td>\n",
       "      <td>0</td>\n",
       "    </tr>\n",
       "  </tbody>\n",
       "</table>\n",
       "<p>1531 rows × 3 columns</p>\n",
       "</div>"
      ],
      "text/plain": [
       "      season     batsman  batsman_runs\n",
       "0       2016     V Kohli           973\n",
       "1       2016   DA Warner           848\n",
       "2       2012    CH Gayle           733\n",
       "3       2013  MEK Hussey           733\n",
       "4       2013    CH Gayle           720\n",
       "...      ...         ...           ...\n",
       "1526    2011    VR Aaron             0\n",
       "1527    2017    MM Patel             0\n",
       "1528    2011    ND Doshi             0\n",
       "1529    2011    S Nadeem             0\n",
       "1530    2011  SK Trivedi             0\n",
       "\n",
       "[1531 rows x 3 columns]"
      ]
     },
     "execution_count": 11,
     "metadata": {},
     "output_type": "execute_result"
    }
   ],
   "source": [
    "run_by_season_batsman = (new.groupby(['season','batsman'])['batsman_runs'].sum().sort_values(ascending=False))\n",
    "run_by_season_batsman.reset_index() #series into dataframe"
   ]
  },
  {
   "cell_type": "code",
   "execution_count": 12,
   "id": "9225573f",
   "metadata": {},
   "outputs": [
    {
     "data": {
      "text/plain": [
       "pandas.core.frame.DataFrame"
      ]
     },
     "execution_count": 12,
     "metadata": {},
     "output_type": "execute_result"
    }
   ],
   "source": [
    "type(run_by_season_batsman.reset_index()) #type"
   ]
  },
  {
   "cell_type": "code",
   "execution_count": 13,
   "id": "bc1ae3f3",
   "metadata": {},
   "outputs": [
    {
     "data": {
      "text/plain": [
       "(1531, 3)"
      ]
     },
     "execution_count": 13,
     "metadata": {},
     "output_type": "execute_result"
    }
   ],
   "source": [
    "run_by_season_batsman.reset_index().shape #numbers of rows & columns"
   ]
  },
  {
   "cell_type": "code",
   "execution_count": 14,
   "id": "a73df510",
   "metadata": {},
   "outputs": [
    {
     "data": {
      "application/vnd.microsoft.datawrangler.viewer.v0+json": {
       "columns": [
        {
         "name": "index",
         "rawType": "int64",
         "type": "integer"
        },
        {
         "name": "season",
         "rawType": "int64",
         "type": "integer"
        },
        {
         "name": "batsman",
         "rawType": "object",
         "type": "string"
        },
        {
         "name": "batsman_runs",
         "rawType": "int64",
         "type": "integer"
        }
       ],
       "ref": "40d87044-7b29-4655-b460-442f8a4dacaa",
       "rows": [
        [
         "10",
         "2008",
         "SE Marsh",
         "616"
        ],
        [
         "27",
         "2008",
         "G Gambhir",
         "534"
        ],
        [
         "31",
         "2008",
         "ST Jayasuriya",
         "514"
        ],
        [
         "51",
         "2008",
         "SR Watson",
         "472"
        ],
        [
         "66",
         "2008",
         "GC Smith",
         "441"
        ],
        [
         "70",
         "2008",
         "AC Gilchrist",
         "436"
        ],
        [
         "71",
         "2008",
         "YK Pathan",
         "435"
        ],
        [
         "80",
         "2008",
         "SK Raina",
         "421"
        ],
        [
         "88",
         "2008",
         "MS Dhoni",
         "414"
        ],
        [
         "95",
         "2008",
         "V Sehwag",
         "406"
        ],
        [
         "99",
         "2008",
         "RG Sharma",
         "404"
        ],
        [
         "135",
         "2008",
         "R Dravid",
         "371"
        ],
        [
         "162",
         "2008",
         "SC Ganguly",
         "349"
        ],
        [
         "169",
         "2008",
         "S Dhawan",
         "340"
        ],
        [
         "199",
         "2008",
         "KC Sangakkara",
         "320"
        ],
        [
         "201",
         "2008",
         "RV Uthappa",
         "320"
        ],
        [
         "202",
         "2008",
         "DJ Hussey",
         "319"
        ],
        [
         "209",
         "2008",
         "SA Asnodkar",
         "311"
        ],
        [
         "219",
         "2008",
         "PA Patel",
         "302"
        ],
        [
         "223",
         "2008",
         "Yuvraj Singh",
         "299"
        ],
        [
         "240",
         "2008",
         "Y Venugopal Rao",
         "288"
        ],
        [
         "308",
         "2008",
         "JA Morkel",
         "241"
        ],
        [
         "330",
         "2008",
         "MV Boucher",
         "225"
        ],
        [
         "334",
         "2008",
         "JR Hopes",
         "221"
        ],
        [
         "351",
         "2008",
         "AM Nayar",
         "206"
        ],
        [
         "362",
         "2008",
         "JH Kallis",
         "199"
        ],
        [
         "371",
         "2008",
         "SP Fleming",
         "196"
        ],
        [
         "378",
         "2008",
         "Salman Butt",
         "193"
        ],
        [
         "380",
         "2008",
         "S Badrinath",
         "192"
        ],
        [
         "389",
         "2008",
         "ML Hayden",
         "189"
        ],
        [
         "390",
         "2008",
         "BB McCullum",
         "188"
        ],
        [
         "392",
         "2008",
         "SR Tendulkar",
         "188"
        ],
        [
         "409",
         "2008",
         "DPMD Jayawardene",
         "179"
        ],
        [
         "411",
         "2008",
         "DJ Bravo",
         "178"
        ],
        [
         "414",
         "2008",
         "M Kaif",
         "176"
        ],
        [
         "423",
         "2008",
         "MEK Hussey",
         "168"
        ],
        [
         "425",
         "2008",
         "HH Gibbs",
         "167"
        ],
        [
         "429",
         "2008",
         "V Kohli",
         "165"
        ],
        [
         "433",
         "2008",
         "LR Shukla",
         "163"
        ],
        [
         "436",
         "2008",
         "A Symonds",
         "161"
        ],
        [
         "441",
         "2008",
         "WP Saha",
         "159"
        ],
        [
         "450",
         "2008",
         "VVS Laxman",
         "155"
        ],
        [
         "458",
         "2008",
         "LA Pomersbach",
         "152"
        ],
        [
         "466",
         "2008",
         "LRPL Taylor",
         "149"
        ],
        [
         "468",
         "2008",
         "SM Pollock",
         "147"
        ],
        [
         "475",
         "2008",
         "KD Karthik",
         "145"
        ],
        [
         "478",
         "2008",
         "S Vidyut",
         "145"
        ],
        [
         "502",
         "2008",
         "RA Jadeja",
         "135"
        ],
        [
         "506",
         "2008",
         "IK Pathan",
         "131"
        ],
        [
         "507",
         "2008",
         "Kamran Akmal",
         "128"
        ]
       ],
       "shape": {
        "columns": 3,
        "rows": 461
       }
      },
      "text/html": [
       "<div>\n",
       "<style scoped>\n",
       "    .dataframe tbody tr th:only-of-type {\n",
       "        vertical-align: middle;\n",
       "    }\n",
       "\n",
       "    .dataframe tbody tr th {\n",
       "        vertical-align: top;\n",
       "    }\n",
       "\n",
       "    .dataframe thead th {\n",
       "        text-align: right;\n",
       "    }\n",
       "</style>\n",
       "<table border=\"1\" class=\"dataframe\">\n",
       "  <thead>\n",
       "    <tr style=\"text-align: right;\">\n",
       "      <th></th>\n",
       "      <th>season</th>\n",
       "      <th>batsman</th>\n",
       "      <th>batsman_runs</th>\n",
       "    </tr>\n",
       "  </thead>\n",
       "  <tbody>\n",
       "    <tr>\n",
       "      <th>10</th>\n",
       "      <td>2008</td>\n",
       "      <td>SE Marsh</td>\n",
       "      <td>616</td>\n",
       "    </tr>\n",
       "    <tr>\n",
       "      <th>27</th>\n",
       "      <td>2008</td>\n",
       "      <td>G Gambhir</td>\n",
       "      <td>534</td>\n",
       "    </tr>\n",
       "    <tr>\n",
       "      <th>31</th>\n",
       "      <td>2008</td>\n",
       "      <td>ST Jayasuriya</td>\n",
       "      <td>514</td>\n",
       "    </tr>\n",
       "    <tr>\n",
       "      <th>51</th>\n",
       "      <td>2008</td>\n",
       "      <td>SR Watson</td>\n",
       "      <td>472</td>\n",
       "    </tr>\n",
       "    <tr>\n",
       "      <th>66</th>\n",
       "      <td>2008</td>\n",
       "      <td>GC Smith</td>\n",
       "      <td>441</td>\n",
       "    </tr>\n",
       "    <tr>\n",
       "      <th>...</th>\n",
       "      <td>...</td>\n",
       "      <td>...</td>\n",
       "      <td>...</td>\n",
       "    </tr>\n",
       "    <tr>\n",
       "      <th>1213</th>\n",
       "      <td>2017</td>\n",
       "      <td>DM Bravo</td>\n",
       "      <td>6</td>\n",
       "    </tr>\n",
       "    <tr>\n",
       "      <th>1250</th>\n",
       "      <td>2017</td>\n",
       "      <td>TA Boult</td>\n",
       "      <td>5</td>\n",
       "    </tr>\n",
       "    <tr>\n",
       "      <th>1343</th>\n",
       "      <td>2017</td>\n",
       "      <td>RD Chahar</td>\n",
       "      <td>3</td>\n",
       "    </tr>\n",
       "    <tr>\n",
       "      <th>1365</th>\n",
       "      <td>2017</td>\n",
       "      <td>Mohammad Nabi</td>\n",
       "      <td>2</td>\n",
       "    </tr>\n",
       "    <tr>\n",
       "      <th>1443</th>\n",
       "      <td>2017</td>\n",
       "      <td>LH Ferguson</td>\n",
       "      <td>1</td>\n",
       "    </tr>\n",
       "  </tbody>\n",
       "</table>\n",
       "<p>461 rows × 3 columns</p>\n",
       "</div>"
      ],
      "text/plain": [
       "      season        batsman  batsman_runs\n",
       "10      2008       SE Marsh           616\n",
       "27      2008      G Gambhir           534\n",
       "31      2008  ST Jayasuriya           514\n",
       "51      2008      SR Watson           472\n",
       "66      2008       GC Smith           441\n",
       "...      ...            ...           ...\n",
       "1213    2017       DM Bravo             6\n",
       "1250    2017       TA Boult             5\n",
       "1343    2017      RD Chahar             3\n",
       "1365    2017  Mohammad Nabi             2\n",
       "1443    2017    LH Ferguson             1\n",
       "\n",
       "[461 rows x 3 columns]"
      ]
     },
     "execution_count": 14,
     "metadata": {},
     "output_type": "execute_result"
    }
   ],
   "source": [
    "run_by_season_batsman.reset_index().sort_values(['season','batsman_runs'],ascending = (True,False)).drop_duplicates(subset=['batsman'],keep='first')"
   ]
  },
  {
   "cell_type": "code",
   "execution_count": 15,
   "id": "0c979571",
   "metadata": {},
   "outputs": [
    {
     "data": {
      "application/vnd.microsoft.datawrangler.viewer.v0+json": {
       "columns": [
        {
         "name": "index",
         "rawType": "int64",
         "type": "integer"
        },
        {
         "name": "season",
         "rawType": "int64",
         "type": "integer"
        },
        {
         "name": "batsman",
         "rawType": "object",
         "type": "string"
        },
        {
         "name": "batsman_runs",
         "rawType": "int64",
         "type": "integer"
        }
       ],
       "ref": "66c61b6f-c07f-4899-bb7b-dc05476471d7",
       "rows": [
        [
         "10",
         "2008",
         "SE Marsh",
         "616"
        ],
        [
         "14",
         "2009",
         "ML Hayden",
         "572"
        ],
        [
         "9",
         "2010",
         "SR Tendulkar",
         "618"
        ],
        [
         "11",
         "2011",
         "CH Gayle",
         "608"
        ],
        [
         "2",
         "2012",
         "CH Gayle",
         "733"
        ],
        [
         "3",
         "2013",
         "MEK Hussey",
         "733"
        ],
        [
         "6",
         "2014",
         "RV Uthappa",
         "660"
        ],
        [
         "17",
         "2015",
         "DA Warner",
         "562"
        ],
        [
         "0",
         "2016",
         "V Kohli",
         "973"
        ],
        [
         "7",
         "2017",
         "DA Warner",
         "641"
        ]
       ],
       "shape": {
        "columns": 3,
        "rows": 10
       }
      },
      "text/html": [
       "<div>\n",
       "<style scoped>\n",
       "    .dataframe tbody tr th:only-of-type {\n",
       "        vertical-align: middle;\n",
       "    }\n",
       "\n",
       "    .dataframe tbody tr th {\n",
       "        vertical-align: top;\n",
       "    }\n",
       "\n",
       "    .dataframe thead th {\n",
       "        text-align: right;\n",
       "    }\n",
       "</style>\n",
       "<table border=\"1\" class=\"dataframe\">\n",
       "  <thead>\n",
       "    <tr style=\"text-align: right;\">\n",
       "      <th></th>\n",
       "      <th>season</th>\n",
       "      <th>batsman</th>\n",
       "      <th>batsman_runs</th>\n",
       "    </tr>\n",
       "  </thead>\n",
       "  <tbody>\n",
       "    <tr>\n",
       "      <th>10</th>\n",
       "      <td>2008</td>\n",
       "      <td>SE Marsh</td>\n",
       "      <td>616</td>\n",
       "    </tr>\n",
       "    <tr>\n",
       "      <th>14</th>\n",
       "      <td>2009</td>\n",
       "      <td>ML Hayden</td>\n",
       "      <td>572</td>\n",
       "    </tr>\n",
       "    <tr>\n",
       "      <th>9</th>\n",
       "      <td>2010</td>\n",
       "      <td>SR Tendulkar</td>\n",
       "      <td>618</td>\n",
       "    </tr>\n",
       "    <tr>\n",
       "      <th>11</th>\n",
       "      <td>2011</td>\n",
       "      <td>CH Gayle</td>\n",
       "      <td>608</td>\n",
       "    </tr>\n",
       "    <tr>\n",
       "      <th>2</th>\n",
       "      <td>2012</td>\n",
       "      <td>CH Gayle</td>\n",
       "      <td>733</td>\n",
       "    </tr>\n",
       "    <tr>\n",
       "      <th>3</th>\n",
       "      <td>2013</td>\n",
       "      <td>MEK Hussey</td>\n",
       "      <td>733</td>\n",
       "    </tr>\n",
       "    <tr>\n",
       "      <th>6</th>\n",
       "      <td>2014</td>\n",
       "      <td>RV Uthappa</td>\n",
       "      <td>660</td>\n",
       "    </tr>\n",
       "    <tr>\n",
       "      <th>17</th>\n",
       "      <td>2015</td>\n",
       "      <td>DA Warner</td>\n",
       "      <td>562</td>\n",
       "    </tr>\n",
       "    <tr>\n",
       "      <th>0</th>\n",
       "      <td>2016</td>\n",
       "      <td>V Kohli</td>\n",
       "      <td>973</td>\n",
       "    </tr>\n",
       "    <tr>\n",
       "      <th>7</th>\n",
       "      <td>2017</td>\n",
       "      <td>DA Warner</td>\n",
       "      <td>641</td>\n",
       "    </tr>\n",
       "  </tbody>\n",
       "</table>\n",
       "</div>"
      ],
      "text/plain": [
       "    season       batsman  batsman_runs\n",
       "10    2008      SE Marsh           616\n",
       "14    2009     ML Hayden           572\n",
       "9     2010  SR Tendulkar           618\n",
       "11    2011      CH Gayle           608\n",
       "2     2012      CH Gayle           733\n",
       "3     2013    MEK Hussey           733\n",
       "6     2014    RV Uthappa           660\n",
       "17    2015     DA Warner           562\n",
       "0     2016       V Kohli           973\n",
       "7     2017     DA Warner           641"
      ]
     },
     "execution_count": 15,
     "metadata": {},
     "output_type": "execute_result"
    }
   ],
   "source": [
    "run_by_season_batsman.reset_index().sort_values(['season','batsman_runs'],ascending = (True,False)).drop_duplicates(subset=['season'],keep='first')"
   ]
  },
  {
   "cell_type": "markdown",
   "id": "7040ef4e",
   "metadata": {},
   "source": [
    "### Question : Most 🏏6s per season..."
   ]
  },
  {
   "cell_type": "code",
   "execution_count": 16,
   "id": "a84d0036",
   "metadata": {},
   "outputs": [
    {
     "data": {
      "application/vnd.microsoft.datawrangler.viewer.v0+json": {
       "columns": [
        {
         "name": "index",
         "rawType": "int64",
         "type": "integer"
        },
        {
         "name": "season",
         "rawType": "int64",
         "type": "integer"
        },
        {
         "name": "batsman",
         "rawType": "object",
         "type": "string"
        },
        {
         "name": "batsman_runs",
         "rawType": "int64",
         "type": "integer"
        }
       ],
       "ref": "33725089-0e15-43f2-995c-90c321107a27",
       "rows": [
        [
         "80",
         "2008",
         "ST Jayasuriya",
         "31"
        ],
        [
         "102",
         "2009",
         "AC Gilchrist",
         "29"
        ],
        [
         "245",
         "2010",
         "RV Uthappa",
         "27"
        ],
        [
         "286",
         "2011",
         "CH Gayle",
         "44"
        ],
        [
         "388",
         "2012",
         "CH Gayle",
         "59"
        ],
        [
         "486",
         "2013",
         "CH Gayle",
         "52"
        ],
        [
         "591",
         "2014",
         "GJ Maxwell",
         "36"
        ],
        [
         "661",
         "2015",
         "CH Gayle",
         "38"
        ],
        [
         "829",
         "2016",
         "V Kohli",
         "38"
        ],
        [
         "856",
         "2017",
         "DA Warner",
         "26"
        ]
       ],
       "shape": {
        "columns": 3,
        "rows": 10
       }
      },
      "text/html": [
       "<div>\n",
       "<style scoped>\n",
       "    .dataframe tbody tr th:only-of-type {\n",
       "        vertical-align: middle;\n",
       "    }\n",
       "\n",
       "    .dataframe tbody tr th {\n",
       "        vertical-align: top;\n",
       "    }\n",
       "\n",
       "    .dataframe thead th {\n",
       "        text-align: right;\n",
       "    }\n",
       "</style>\n",
       "<table border=\"1\" class=\"dataframe\">\n",
       "  <thead>\n",
       "    <tr style=\"text-align: right;\">\n",
       "      <th></th>\n",
       "      <th>season</th>\n",
       "      <th>batsman</th>\n",
       "      <th>batsman_runs</th>\n",
       "    </tr>\n",
       "  </thead>\n",
       "  <tbody>\n",
       "    <tr>\n",
       "      <th>80</th>\n",
       "      <td>2008</td>\n",
       "      <td>ST Jayasuriya</td>\n",
       "      <td>31</td>\n",
       "    </tr>\n",
       "    <tr>\n",
       "      <th>102</th>\n",
       "      <td>2009</td>\n",
       "      <td>AC Gilchrist</td>\n",
       "      <td>29</td>\n",
       "    </tr>\n",
       "    <tr>\n",
       "      <th>245</th>\n",
       "      <td>2010</td>\n",
       "      <td>RV Uthappa</td>\n",
       "      <td>27</td>\n",
       "    </tr>\n",
       "    <tr>\n",
       "      <th>286</th>\n",
       "      <td>2011</td>\n",
       "      <td>CH Gayle</td>\n",
       "      <td>44</td>\n",
       "    </tr>\n",
       "    <tr>\n",
       "      <th>388</th>\n",
       "      <td>2012</td>\n",
       "      <td>CH Gayle</td>\n",
       "      <td>59</td>\n",
       "    </tr>\n",
       "    <tr>\n",
       "      <th>486</th>\n",
       "      <td>2013</td>\n",
       "      <td>CH Gayle</td>\n",
       "      <td>52</td>\n",
       "    </tr>\n",
       "    <tr>\n",
       "      <th>591</th>\n",
       "      <td>2014</td>\n",
       "      <td>GJ Maxwell</td>\n",
       "      <td>36</td>\n",
       "    </tr>\n",
       "    <tr>\n",
       "      <th>661</th>\n",
       "      <td>2015</td>\n",
       "      <td>CH Gayle</td>\n",
       "      <td>38</td>\n",
       "    </tr>\n",
       "    <tr>\n",
       "      <th>829</th>\n",
       "      <td>2016</td>\n",
       "      <td>V Kohli</td>\n",
       "      <td>38</td>\n",
       "    </tr>\n",
       "    <tr>\n",
       "      <th>856</th>\n",
       "      <td>2017</td>\n",
       "      <td>DA Warner</td>\n",
       "      <td>26</td>\n",
       "    </tr>\n",
       "  </tbody>\n",
       "</table>\n",
       "</div>"
      ],
      "text/plain": [
       "     season        batsman  batsman_runs\n",
       "80     2008  ST Jayasuriya            31\n",
       "102    2009   AC Gilchrist            29\n",
       "245    2010     RV Uthappa            27\n",
       "286    2011       CH Gayle            44\n",
       "388    2012       CH Gayle            59\n",
       "486    2013       CH Gayle            52\n",
       "591    2014     GJ Maxwell            36\n",
       "661    2015       CH Gayle            38\n",
       "829    2016        V Kohli            38\n",
       "856    2017      DA Warner            26"
      ]
     },
     "execution_count": 16,
     "metadata": {},
     "output_type": "execute_result"
    }
   ],
   "source": [
    "mask = new['batsman_runs'] == 6 # filtering sixes\n",
    "new[mask].groupby(['season','batsman'])['batsman_runs'].count().reset_index().sort_values(['season',\"batsman_runs\"],ascending=[True,False]).drop_duplicates(subset=['season']) # top six hitters each season"
   ]
  },
  {
   "cell_type": "code",
   "execution_count": 17,
   "id": "4f88f270",
   "metadata": {},
   "outputs": [
    {
     "data": {
      "application/vnd.microsoft.datawrangler.viewer.v0+json": {
       "columns": [
        {
         "name": "index",
         "rawType": "int64",
         "type": "integer"
        },
        {
         "name": "season",
         "rawType": "int64",
         "type": "integer"
        },
        {
         "name": "batsman",
         "rawType": "object",
         "type": "string"
        },
        {
         "name": "batsman_runs",
         "rawType": "int64",
         "type": "integer"
        }
       ],
       "ref": "061d27ec-2ed0-43c0-8ae8-8d703fd4ecf9",
       "rows": [
        [
         "28",
         "2008",
         "G Gambhir",
         "68"
        ],
        [
         "176",
         "2009",
         "ML Hayden",
         "60"
        ],
        [
         "334",
         "2010",
         "SR Tendulkar",
         "86"
        ],
        [
         "464",
         "2011",
         "SR Tendulkar",
         "67"
        ],
        [
         "500",
         "2012",
         "AM Rahane",
         "73"
        ],
        [
         "683",
         "2013",
         "MEK Hussey",
         "81"
        ],
        [
         "814",
         "2014",
         "RV Uthappa",
         "74"
        ],
        [
         "856",
         "2015",
         "DA Warner",
         "65"
        ],
        [
         "956",
         "2016",
         "DA Warner",
         "88"
        ],
        [
         "1070",
         "2017",
         "DA Warner",
         "63"
        ]
       ],
       "shape": {
        "columns": 3,
        "rows": 10
       }
      },
      "text/html": [
       "<div>\n",
       "<style scoped>\n",
       "    .dataframe tbody tr th:only-of-type {\n",
       "        vertical-align: middle;\n",
       "    }\n",
       "\n",
       "    .dataframe tbody tr th {\n",
       "        vertical-align: top;\n",
       "    }\n",
       "\n",
       "    .dataframe thead th {\n",
       "        text-align: right;\n",
       "    }\n",
       "</style>\n",
       "<table border=\"1\" class=\"dataframe\">\n",
       "  <thead>\n",
       "    <tr style=\"text-align: right;\">\n",
       "      <th></th>\n",
       "      <th>season</th>\n",
       "      <th>batsman</th>\n",
       "      <th>batsman_runs</th>\n",
       "    </tr>\n",
       "  </thead>\n",
       "  <tbody>\n",
       "    <tr>\n",
       "      <th>28</th>\n",
       "      <td>2008</td>\n",
       "      <td>G Gambhir</td>\n",
       "      <td>68</td>\n",
       "    </tr>\n",
       "    <tr>\n",
       "      <th>176</th>\n",
       "      <td>2009</td>\n",
       "      <td>ML Hayden</td>\n",
       "      <td>60</td>\n",
       "    </tr>\n",
       "    <tr>\n",
       "      <th>334</th>\n",
       "      <td>2010</td>\n",
       "      <td>SR Tendulkar</td>\n",
       "      <td>86</td>\n",
       "    </tr>\n",
       "    <tr>\n",
       "      <th>464</th>\n",
       "      <td>2011</td>\n",
       "      <td>SR Tendulkar</td>\n",
       "      <td>67</td>\n",
       "    </tr>\n",
       "    <tr>\n",
       "      <th>500</th>\n",
       "      <td>2012</td>\n",
       "      <td>AM Rahane</td>\n",
       "      <td>73</td>\n",
       "    </tr>\n",
       "    <tr>\n",
       "      <th>683</th>\n",
       "      <td>2013</td>\n",
       "      <td>MEK Hussey</td>\n",
       "      <td>81</td>\n",
       "    </tr>\n",
       "    <tr>\n",
       "      <th>814</th>\n",
       "      <td>2014</td>\n",
       "      <td>RV Uthappa</td>\n",
       "      <td>74</td>\n",
       "    </tr>\n",
       "    <tr>\n",
       "      <th>856</th>\n",
       "      <td>2015</td>\n",
       "      <td>DA Warner</td>\n",
       "      <td>65</td>\n",
       "    </tr>\n",
       "    <tr>\n",
       "      <th>956</th>\n",
       "      <td>2016</td>\n",
       "      <td>DA Warner</td>\n",
       "      <td>88</td>\n",
       "    </tr>\n",
       "    <tr>\n",
       "      <th>1070</th>\n",
       "      <td>2017</td>\n",
       "      <td>DA Warner</td>\n",
       "      <td>63</td>\n",
       "    </tr>\n",
       "  </tbody>\n",
       "</table>\n",
       "</div>"
      ],
      "text/plain": [
       "      season       batsman  batsman_runs\n",
       "28      2008     G Gambhir            68\n",
       "176     2009     ML Hayden            60\n",
       "334     2010  SR Tendulkar            86\n",
       "464     2011  SR Tendulkar            67\n",
       "500     2012     AM Rahane            73\n",
       "683     2013    MEK Hussey            81\n",
       "814     2014    RV Uthappa            74\n",
       "856     2015     DA Warner            65\n",
       "956     2016     DA Warner            88\n",
       "1070    2017     DA Warner            63"
      ]
     },
     "execution_count": 17,
     "metadata": {},
     "output_type": "execute_result"
    }
   ],
   "source": [
    "mask = new['batsman_runs'] == 4\n",
    "new[mask].groupby(['season','batsman'])['batsman_runs'].count().reset_index().sort_values(['season','batsman_runs'],ascending=(True,False)).drop_duplicates(subset=['season'])"
   ]
  },
  {
   "cell_type": "markdown",
   "id": "2a467c6e",
   "metadata": {},
   "source": [
    "## 🔃Pivoit Tables\n"
   ]
  },
  {
   "cell_type": "code",
   "execution_count": 18,
   "id": "dbb88e72",
   "metadata": {},
   "outputs": [
    {
     "name": "stdout",
     "output_type": "stream",
     "text": [
      "  Region Product  Sales\n",
      "0  North       A    100\n",
      "1  South       A    150\n",
      "2   East       A    200\n",
      "3   West       A    130\n",
      "4  North       B    300\n",
      "5  South       B    250\n",
      "6   East       B    220\n",
      "7   West       B    280\n"
     ]
    }
   ],
   "source": [
    "data1 = {\n",
    "    \"Region\": ['North','South','East','West','North','South','East','West'],\n",
    "    \"Product\": [\"A\",\"A\",\"A\",\"A\",\"B\",\"B\",\"B\",\"B\"],\n",
    "    \"Sales\": [100,150,200,130,300,250,220,280]\n",
    "}\n",
    "\n",
    "df = pd.DataFrame(data1)\n",
    "print(df)"
   ]
  },
  {
   "cell_type": "code",
   "execution_count": 19,
   "id": "dea88b02",
   "metadata": {},
   "outputs": [
    {
     "name": "stdout",
     "output_type": "stream",
     "text": [
      "Product  A  B\n",
      "Region       \n",
      "East     1  1\n",
      "North    1  1\n",
      "South    1  1\n",
      "West     1  1\n"
     ]
    }
   ],
   "source": [
    "pivot = pd.pivot_table(df,\n",
    "                       index=\"Region\",\n",
    "                       columns=\"Product\",\n",
    "                       values=\"Sales\",\n",
    "                       aggfunc=\"count\"\n",
    "                       )\n",
    "print(pivot)"
   ]
  },
  {
   "cell_type": "markdown",
   "id": "d4344f4c",
   "metadata": {},
   "source": [
    "### Question : What insights can be drawn from the pivot table of sixes hit by each batting team across different overs?"
   ]
  },
  {
   "cell_type": "code",
   "execution_count": 20,
   "id": "6734ecd0",
   "metadata": {},
   "outputs": [
    {
     "data": {
      "application/vnd.microsoft.datawrangler.viewer.v0+json": {
       "columns": [
        {
         "name": "batting_team",
         "rawType": "object",
         "type": "string"
        },
        {
         "name": "1",
         "rawType": "float64",
         "type": "float"
        },
        {
         "name": "2",
         "rawType": "float64",
         "type": "float"
        },
        {
         "name": "3",
         "rawType": "float64",
         "type": "float"
        },
        {
         "name": "4",
         "rawType": "float64",
         "type": "float"
        },
        {
         "name": "5",
         "rawType": "float64",
         "type": "float"
        },
        {
         "name": "6",
         "rawType": "float64",
         "type": "float"
        },
        {
         "name": "7",
         "rawType": "float64",
         "type": "float"
        },
        {
         "name": "8",
         "rawType": "float64",
         "type": "float"
        },
        {
         "name": "9",
         "rawType": "float64",
         "type": "float"
        },
        {
         "name": "10",
         "rawType": "float64",
         "type": "float"
        },
        {
         "name": "11",
         "rawType": "float64",
         "type": "float"
        },
        {
         "name": "12",
         "rawType": "float64",
         "type": "float"
        },
        {
         "name": "13",
         "rawType": "float64",
         "type": "float"
        },
        {
         "name": "14",
         "rawType": "float64",
         "type": "float"
        },
        {
         "name": "15",
         "rawType": "float64",
         "type": "float"
        },
        {
         "name": "16",
         "rawType": "float64",
         "type": "float"
        },
        {
         "name": "17",
         "rawType": "float64",
         "type": "float"
        },
        {
         "name": "18",
         "rawType": "float64",
         "type": "float"
        },
        {
         "name": "19",
         "rawType": "float64",
         "type": "float"
        },
        {
         "name": "20",
         "rawType": "float64",
         "type": "float"
        }
       ],
       "ref": "2d2857db-2894-42aa-8496-105f9b0b62cb",
       "rows": [
        [
         "Chennai Super Kings",
         "5.0",
         "17.0",
         "37.0",
         "34.0",
         "41.0",
         "43.0",
         "22.0",
         "25.0",
         "23.0",
         "23.0",
         "36.0",
         "36.0",
         "35.0",
         "45.0",
         "43.0",
         "46.0",
         "51.0",
         "58.0",
         "54.0",
         "68.0"
        ],
        [
         "Deccan Chargers",
         "3.0",
         "21.0",
         "11.0",
         "17.0",
         "27.0",
         "22.0",
         "11.0",
         "13.0",
         "17.0",
         "14.0",
         "15.0",
         "26.0",
         "23.0",
         "22.0",
         "20.0",
         "21.0",
         "38.0",
         "37.0",
         "23.0",
         "19.0"
        ],
        [
         "Delhi Daredevils",
         "14.0",
         "19.0",
         "30.0",
         "41.0",
         "29.0",
         "27.0",
         "20.0",
         "26.0",
         "32.0",
         "24.0",
         "34.0",
         "38.0",
         "37.0",
         "35.0",
         "28.0",
         "43.0",
         "56.0",
         "44.0",
         "59.0",
         "50.0"
        ],
        [
         "Gujarat Lions",
         "4.0",
         "6.0",
         "14.0",
         "9.0",
         "11.0",
         "12.0",
         "10.0",
         "6.0",
         "11.0",
         "8.0",
         "5.0",
         "7.0",
         "5.0",
         "8.0",
         "5.0",
         "5.0",
         "7.0",
         "9.0",
         "9.0",
         "4.0"
        ],
        [
         "Kings XI Punjab",
         "10.0",
         "19.0",
         "27.0",
         "36.0",
         "30.0",
         "39.0",
         "19.0",
         "35.0",
         "36.0",
         "29.0",
         "37.0",
         "38.0",
         "47.0",
         "41.0",
         "51.0",
         "59.0",
         "39.0",
         "57.0",
         "53.0",
         "60.0"
        ],
        [
         "Kochi Tuskers Kerala",
         "2.0",
         "4.0",
         "3.0",
         "3.0",
         "3.0",
         "3.0",
         "2.0",
         "2.0",
         "1.0",
         "3.0",
         "1.0",
         "3.0",
         "2.0",
         "3.0",
         "4.0",
         null,
         "3.0",
         "4.0",
         "5.0",
         "2.0"
        ],
        [
         "Kolkata Knight Riders",
         "10.0",
         "13.0",
         "28.0",
         "35.0",
         "25.0",
         "34.0",
         "26.0",
         "25.0",
         "27.0",
         "21.0",
         "34.0",
         "32.0",
         "42.0",
         "31.0",
         "40.0",
         "50.0",
         "55.0",
         "52.0",
         "45.0",
         "34.0"
        ],
        [
         "Mumbai Indians",
         "9.0",
         "17.0",
         "22.0",
         "28.0",
         "43.0",
         "50.0",
         "18.0",
         "23.0",
         "35.0",
         "22.0",
         "33.0",
         "49.0",
         "51.0",
         "50.0",
         "53.0",
         "66.0",
         "60.0",
         "86.0",
         "72.0",
         "89.0"
        ],
        [
         "Pune Warriors",
         "5.0",
         "6.0",
         "6.0",
         "7.0",
         "7.0",
         "3.0",
         "5.0",
         "10.0",
         "9.0",
         "6.0",
         "13.0",
         "5.0",
         "10.0",
         "13.0",
         "13.0",
         "16.0",
         "13.0",
         "12.0",
         "18.0",
         "19.0"
        ],
        [
         "Rajasthan Royals",
         "12.0",
         "7.0",
         "13.0",
         "21.0",
         "23.0",
         "24.0",
         "15.0",
         "24.0",
         "20.0",
         "26.0",
         "30.0",
         "33.0",
         "39.0",
         "38.0",
         "34.0",
         "37.0",
         "45.0",
         "34.0",
         "37.0",
         "26.0"
        ],
        [
         "Rising Pune Supergiant",
         "1.0",
         null,
         "2.0",
         "5.0",
         "8.0",
         "6.0",
         "1.0",
         null,
         "3.0",
         "8.0",
         "3.0",
         "2.0",
         "7.0",
         "4.0",
         "5.0",
         "5.0",
         "2.0",
         "2.0",
         "14.0",
         "11.0"
        ],
        [
         "Rising Pune Supergiants",
         null,
         "2.0",
         "1.0",
         "1.0",
         "5.0",
         "5.0",
         "4.0",
         "3.0",
         "1.0",
         "1.0",
         "2.0",
         "2.0",
         "1.0",
         "1.0",
         "7.0",
         "6.0",
         "6.0",
         "9.0",
         "2.0",
         "9.0"
        ],
        [
         "Royal Challengers Bangalore",
         "20.0",
         "28.0",
         "40.0",
         "43.0",
         "40.0",
         "29.0",
         "18.0",
         "34.0",
         "47.0",
         "36.0",
         "47.0",
         "36.0",
         "51.0",
         "53.0",
         "54.0",
         "71.0",
         "61.0",
         "82.0",
         "74.0",
         "71.0"
        ],
        [
         "Sunrisers Hyderabad",
         "3.0",
         "12.0",
         "16.0",
         "8.0",
         "17.0",
         "10.0",
         "13.0",
         "19.0",
         "15.0",
         "12.0",
         "11.0",
         "11.0",
         "19.0",
         "18.0",
         "33.0",
         "22.0",
         "18.0",
         "37.0",
         "42.0",
         "28.0"
        ]
       ],
       "shape": {
        "columns": 20,
        "rows": 14
       }
      },
      "text/html": [
       "<div>\n",
       "<style scoped>\n",
       "    .dataframe tbody tr th:only-of-type {\n",
       "        vertical-align: middle;\n",
       "    }\n",
       "\n",
       "    .dataframe tbody tr th {\n",
       "        vertical-align: top;\n",
       "    }\n",
       "\n",
       "    .dataframe thead th {\n",
       "        text-align: right;\n",
       "    }\n",
       "</style>\n",
       "<table border=\"1\" class=\"dataframe\">\n",
       "  <thead>\n",
       "    <tr style=\"text-align: right;\">\n",
       "      <th>over</th>\n",
       "      <th>1</th>\n",
       "      <th>2</th>\n",
       "      <th>3</th>\n",
       "      <th>4</th>\n",
       "      <th>5</th>\n",
       "      <th>6</th>\n",
       "      <th>7</th>\n",
       "      <th>8</th>\n",
       "      <th>9</th>\n",
       "      <th>10</th>\n",
       "      <th>11</th>\n",
       "      <th>12</th>\n",
       "      <th>13</th>\n",
       "      <th>14</th>\n",
       "      <th>15</th>\n",
       "      <th>16</th>\n",
       "      <th>17</th>\n",
       "      <th>18</th>\n",
       "      <th>19</th>\n",
       "      <th>20</th>\n",
       "    </tr>\n",
       "    <tr>\n",
       "      <th>batting_team</th>\n",
       "      <th></th>\n",
       "      <th></th>\n",
       "      <th></th>\n",
       "      <th></th>\n",
       "      <th></th>\n",
       "      <th></th>\n",
       "      <th></th>\n",
       "      <th></th>\n",
       "      <th></th>\n",
       "      <th></th>\n",
       "      <th></th>\n",
       "      <th></th>\n",
       "      <th></th>\n",
       "      <th></th>\n",
       "      <th></th>\n",
       "      <th></th>\n",
       "      <th></th>\n",
       "      <th></th>\n",
       "      <th></th>\n",
       "      <th></th>\n",
       "    </tr>\n",
       "  </thead>\n",
       "  <tbody>\n",
       "    <tr>\n",
       "      <th>Chennai Super Kings</th>\n",
       "      <td>5.0</td>\n",
       "      <td>17.0</td>\n",
       "      <td>37.0</td>\n",
       "      <td>34.0</td>\n",
       "      <td>41.0</td>\n",
       "      <td>43.0</td>\n",
       "      <td>22.0</td>\n",
       "      <td>25.0</td>\n",
       "      <td>23.0</td>\n",
       "      <td>23.0</td>\n",
       "      <td>36.0</td>\n",
       "      <td>36.0</td>\n",
       "      <td>35.0</td>\n",
       "      <td>45.0</td>\n",
       "      <td>43.0</td>\n",
       "      <td>46.0</td>\n",
       "      <td>51.0</td>\n",
       "      <td>58.0</td>\n",
       "      <td>54.0</td>\n",
       "      <td>68.0</td>\n",
       "    </tr>\n",
       "    <tr>\n",
       "      <th>Deccan Chargers</th>\n",
       "      <td>3.0</td>\n",
       "      <td>21.0</td>\n",
       "      <td>11.0</td>\n",
       "      <td>17.0</td>\n",
       "      <td>27.0</td>\n",
       "      <td>22.0</td>\n",
       "      <td>11.0</td>\n",
       "      <td>13.0</td>\n",
       "      <td>17.0</td>\n",
       "      <td>14.0</td>\n",
       "      <td>15.0</td>\n",
       "      <td>26.0</td>\n",
       "      <td>23.0</td>\n",
       "      <td>22.0</td>\n",
       "      <td>20.0</td>\n",
       "      <td>21.0</td>\n",
       "      <td>38.0</td>\n",
       "      <td>37.0</td>\n",
       "      <td>23.0</td>\n",
       "      <td>19.0</td>\n",
       "    </tr>\n",
       "    <tr>\n",
       "      <th>Delhi Daredevils</th>\n",
       "      <td>14.0</td>\n",
       "      <td>19.0</td>\n",
       "      <td>30.0</td>\n",
       "      <td>41.0</td>\n",
       "      <td>29.0</td>\n",
       "      <td>27.0</td>\n",
       "      <td>20.0</td>\n",
       "      <td>26.0</td>\n",
       "      <td>32.0</td>\n",
       "      <td>24.0</td>\n",
       "      <td>34.0</td>\n",
       "      <td>38.0</td>\n",
       "      <td>37.0</td>\n",
       "      <td>35.0</td>\n",
       "      <td>28.0</td>\n",
       "      <td>43.0</td>\n",
       "      <td>56.0</td>\n",
       "      <td>44.0</td>\n",
       "      <td>59.0</td>\n",
       "      <td>50.0</td>\n",
       "    </tr>\n",
       "    <tr>\n",
       "      <th>Gujarat Lions</th>\n",
       "      <td>4.0</td>\n",
       "      <td>6.0</td>\n",
       "      <td>14.0</td>\n",
       "      <td>9.0</td>\n",
       "      <td>11.0</td>\n",
       "      <td>12.0</td>\n",
       "      <td>10.0</td>\n",
       "      <td>6.0</td>\n",
       "      <td>11.0</td>\n",
       "      <td>8.0</td>\n",
       "      <td>5.0</td>\n",
       "      <td>7.0</td>\n",
       "      <td>5.0</td>\n",
       "      <td>8.0</td>\n",
       "      <td>5.0</td>\n",
       "      <td>5.0</td>\n",
       "      <td>7.0</td>\n",
       "      <td>9.0</td>\n",
       "      <td>9.0</td>\n",
       "      <td>4.0</td>\n",
       "    </tr>\n",
       "    <tr>\n",
       "      <th>Kings XI Punjab</th>\n",
       "      <td>10.0</td>\n",
       "      <td>19.0</td>\n",
       "      <td>27.0</td>\n",
       "      <td>36.0</td>\n",
       "      <td>30.0</td>\n",
       "      <td>39.0</td>\n",
       "      <td>19.0</td>\n",
       "      <td>35.0</td>\n",
       "      <td>36.0</td>\n",
       "      <td>29.0</td>\n",
       "      <td>37.0</td>\n",
       "      <td>38.0</td>\n",
       "      <td>47.0</td>\n",
       "      <td>41.0</td>\n",
       "      <td>51.0</td>\n",
       "      <td>59.0</td>\n",
       "      <td>39.0</td>\n",
       "      <td>57.0</td>\n",
       "      <td>53.0</td>\n",
       "      <td>60.0</td>\n",
       "    </tr>\n",
       "    <tr>\n",
       "      <th>Kochi Tuskers Kerala</th>\n",
       "      <td>2.0</td>\n",
       "      <td>4.0</td>\n",
       "      <td>3.0</td>\n",
       "      <td>3.0</td>\n",
       "      <td>3.0</td>\n",
       "      <td>3.0</td>\n",
       "      <td>2.0</td>\n",
       "      <td>2.0</td>\n",
       "      <td>1.0</td>\n",
       "      <td>3.0</td>\n",
       "      <td>1.0</td>\n",
       "      <td>3.0</td>\n",
       "      <td>2.0</td>\n",
       "      <td>3.0</td>\n",
       "      <td>4.0</td>\n",
       "      <td>NaN</td>\n",
       "      <td>3.0</td>\n",
       "      <td>4.0</td>\n",
       "      <td>5.0</td>\n",
       "      <td>2.0</td>\n",
       "    </tr>\n",
       "    <tr>\n",
       "      <th>Kolkata Knight Riders</th>\n",
       "      <td>10.0</td>\n",
       "      <td>13.0</td>\n",
       "      <td>28.0</td>\n",
       "      <td>35.0</td>\n",
       "      <td>25.0</td>\n",
       "      <td>34.0</td>\n",
       "      <td>26.0</td>\n",
       "      <td>25.0</td>\n",
       "      <td>27.0</td>\n",
       "      <td>21.0</td>\n",
       "      <td>34.0</td>\n",
       "      <td>32.0</td>\n",
       "      <td>42.0</td>\n",
       "      <td>31.0</td>\n",
       "      <td>40.0</td>\n",
       "      <td>50.0</td>\n",
       "      <td>55.0</td>\n",
       "      <td>52.0</td>\n",
       "      <td>45.0</td>\n",
       "      <td>34.0</td>\n",
       "    </tr>\n",
       "    <tr>\n",
       "      <th>Mumbai Indians</th>\n",
       "      <td>9.0</td>\n",
       "      <td>17.0</td>\n",
       "      <td>22.0</td>\n",
       "      <td>28.0</td>\n",
       "      <td>43.0</td>\n",
       "      <td>50.0</td>\n",
       "      <td>18.0</td>\n",
       "      <td>23.0</td>\n",
       "      <td>35.0</td>\n",
       "      <td>22.0</td>\n",
       "      <td>33.0</td>\n",
       "      <td>49.0</td>\n",
       "      <td>51.0</td>\n",
       "      <td>50.0</td>\n",
       "      <td>53.0</td>\n",
       "      <td>66.0</td>\n",
       "      <td>60.0</td>\n",
       "      <td>86.0</td>\n",
       "      <td>72.0</td>\n",
       "      <td>89.0</td>\n",
       "    </tr>\n",
       "    <tr>\n",
       "      <th>Pune Warriors</th>\n",
       "      <td>5.0</td>\n",
       "      <td>6.0</td>\n",
       "      <td>6.0</td>\n",
       "      <td>7.0</td>\n",
       "      <td>7.0</td>\n",
       "      <td>3.0</td>\n",
       "      <td>5.0</td>\n",
       "      <td>10.0</td>\n",
       "      <td>9.0</td>\n",
       "      <td>6.0</td>\n",
       "      <td>13.0</td>\n",
       "      <td>5.0</td>\n",
       "      <td>10.0</td>\n",
       "      <td>13.0</td>\n",
       "      <td>13.0</td>\n",
       "      <td>16.0</td>\n",
       "      <td>13.0</td>\n",
       "      <td>12.0</td>\n",
       "      <td>18.0</td>\n",
       "      <td>19.0</td>\n",
       "    </tr>\n",
       "    <tr>\n",
       "      <th>Rajasthan Royals</th>\n",
       "      <td>12.0</td>\n",
       "      <td>7.0</td>\n",
       "      <td>13.0</td>\n",
       "      <td>21.0</td>\n",
       "      <td>23.0</td>\n",
       "      <td>24.0</td>\n",
       "      <td>15.0</td>\n",
       "      <td>24.0</td>\n",
       "      <td>20.0</td>\n",
       "      <td>26.0</td>\n",
       "      <td>30.0</td>\n",
       "      <td>33.0</td>\n",
       "      <td>39.0</td>\n",
       "      <td>38.0</td>\n",
       "      <td>34.0</td>\n",
       "      <td>37.0</td>\n",
       "      <td>45.0</td>\n",
       "      <td>34.0</td>\n",
       "      <td>37.0</td>\n",
       "      <td>26.0</td>\n",
       "    </tr>\n",
       "    <tr>\n",
       "      <th>Rising Pune Supergiant</th>\n",
       "      <td>1.0</td>\n",
       "      <td>NaN</td>\n",
       "      <td>2.0</td>\n",
       "      <td>5.0</td>\n",
       "      <td>8.0</td>\n",
       "      <td>6.0</td>\n",
       "      <td>1.0</td>\n",
       "      <td>NaN</td>\n",
       "      <td>3.0</td>\n",
       "      <td>8.0</td>\n",
       "      <td>3.0</td>\n",
       "      <td>2.0</td>\n",
       "      <td>7.0</td>\n",
       "      <td>4.0</td>\n",
       "      <td>5.0</td>\n",
       "      <td>5.0</td>\n",
       "      <td>2.0</td>\n",
       "      <td>2.0</td>\n",
       "      <td>14.0</td>\n",
       "      <td>11.0</td>\n",
       "    </tr>\n",
       "    <tr>\n",
       "      <th>Rising Pune Supergiants</th>\n",
       "      <td>NaN</td>\n",
       "      <td>2.0</td>\n",
       "      <td>1.0</td>\n",
       "      <td>1.0</td>\n",
       "      <td>5.0</td>\n",
       "      <td>5.0</td>\n",
       "      <td>4.0</td>\n",
       "      <td>3.0</td>\n",
       "      <td>1.0</td>\n",
       "      <td>1.0</td>\n",
       "      <td>2.0</td>\n",
       "      <td>2.0</td>\n",
       "      <td>1.0</td>\n",
       "      <td>1.0</td>\n",
       "      <td>7.0</td>\n",
       "      <td>6.0</td>\n",
       "      <td>6.0</td>\n",
       "      <td>9.0</td>\n",
       "      <td>2.0</td>\n",
       "      <td>9.0</td>\n",
       "    </tr>\n",
       "    <tr>\n",
       "      <th>Royal Challengers Bangalore</th>\n",
       "      <td>20.0</td>\n",
       "      <td>28.0</td>\n",
       "      <td>40.0</td>\n",
       "      <td>43.0</td>\n",
       "      <td>40.0</td>\n",
       "      <td>29.0</td>\n",
       "      <td>18.0</td>\n",
       "      <td>34.0</td>\n",
       "      <td>47.0</td>\n",
       "      <td>36.0</td>\n",
       "      <td>47.0</td>\n",
       "      <td>36.0</td>\n",
       "      <td>51.0</td>\n",
       "      <td>53.0</td>\n",
       "      <td>54.0</td>\n",
       "      <td>71.0</td>\n",
       "      <td>61.0</td>\n",
       "      <td>82.0</td>\n",
       "      <td>74.0</td>\n",
       "      <td>71.0</td>\n",
       "    </tr>\n",
       "    <tr>\n",
       "      <th>Sunrisers Hyderabad</th>\n",
       "      <td>3.0</td>\n",
       "      <td>12.0</td>\n",
       "      <td>16.0</td>\n",
       "      <td>8.0</td>\n",
       "      <td>17.0</td>\n",
       "      <td>10.0</td>\n",
       "      <td>13.0</td>\n",
       "      <td>19.0</td>\n",
       "      <td>15.0</td>\n",
       "      <td>12.0</td>\n",
       "      <td>11.0</td>\n",
       "      <td>11.0</td>\n",
       "      <td>19.0</td>\n",
       "      <td>18.0</td>\n",
       "      <td>33.0</td>\n",
       "      <td>22.0</td>\n",
       "      <td>18.0</td>\n",
       "      <td>37.0</td>\n",
       "      <td>42.0</td>\n",
       "      <td>28.0</td>\n",
       "    </tr>\n",
       "  </tbody>\n",
       "</table>\n",
       "</div>"
      ],
      "text/plain": [
       "over                           1     2     3     4     5     6     7     8   \\\n",
       "batting_team                                                                  \n",
       "Chennai Super Kings           5.0  17.0  37.0  34.0  41.0  43.0  22.0  25.0   \n",
       "Deccan Chargers               3.0  21.0  11.0  17.0  27.0  22.0  11.0  13.0   \n",
       "Delhi Daredevils             14.0  19.0  30.0  41.0  29.0  27.0  20.0  26.0   \n",
       "Gujarat Lions                 4.0   6.0  14.0   9.0  11.0  12.0  10.0   6.0   \n",
       "Kings XI Punjab              10.0  19.0  27.0  36.0  30.0  39.0  19.0  35.0   \n",
       "Kochi Tuskers Kerala          2.0   4.0   3.0   3.0   3.0   3.0   2.0   2.0   \n",
       "Kolkata Knight Riders        10.0  13.0  28.0  35.0  25.0  34.0  26.0  25.0   \n",
       "Mumbai Indians                9.0  17.0  22.0  28.0  43.0  50.0  18.0  23.0   \n",
       "Pune Warriors                 5.0   6.0   6.0   7.0   7.0   3.0   5.0  10.0   \n",
       "Rajasthan Royals             12.0   7.0  13.0  21.0  23.0  24.0  15.0  24.0   \n",
       "Rising Pune Supergiant        1.0   NaN   2.0   5.0   8.0   6.0   1.0   NaN   \n",
       "Rising Pune Supergiants       NaN   2.0   1.0   1.0   5.0   5.0   4.0   3.0   \n",
       "Royal Challengers Bangalore  20.0  28.0  40.0  43.0  40.0  29.0  18.0  34.0   \n",
       "Sunrisers Hyderabad           3.0  12.0  16.0   8.0  17.0  10.0  13.0  19.0   \n",
       "\n",
       "over                           9     10    11    12    13    14    15    16  \\\n",
       "batting_team                                                                  \n",
       "Chennai Super Kings          23.0  23.0  36.0  36.0  35.0  45.0  43.0  46.0   \n",
       "Deccan Chargers              17.0  14.0  15.0  26.0  23.0  22.0  20.0  21.0   \n",
       "Delhi Daredevils             32.0  24.0  34.0  38.0  37.0  35.0  28.0  43.0   \n",
       "Gujarat Lions                11.0   8.0   5.0   7.0   5.0   8.0   5.0   5.0   \n",
       "Kings XI Punjab              36.0  29.0  37.0  38.0  47.0  41.0  51.0  59.0   \n",
       "Kochi Tuskers Kerala          1.0   3.0   1.0   3.0   2.0   3.0   4.0   NaN   \n",
       "Kolkata Knight Riders        27.0  21.0  34.0  32.0  42.0  31.0  40.0  50.0   \n",
       "Mumbai Indians               35.0  22.0  33.0  49.0  51.0  50.0  53.0  66.0   \n",
       "Pune Warriors                 9.0   6.0  13.0   5.0  10.0  13.0  13.0  16.0   \n",
       "Rajasthan Royals             20.0  26.0  30.0  33.0  39.0  38.0  34.0  37.0   \n",
       "Rising Pune Supergiant        3.0   8.0   3.0   2.0   7.0   4.0   5.0   5.0   \n",
       "Rising Pune Supergiants       1.0   1.0   2.0   2.0   1.0   1.0   7.0   6.0   \n",
       "Royal Challengers Bangalore  47.0  36.0  47.0  36.0  51.0  53.0  54.0  71.0   \n",
       "Sunrisers Hyderabad          15.0  12.0  11.0  11.0  19.0  18.0  33.0  22.0   \n",
       "\n",
       "over                           17    18    19    20  \n",
       "batting_team                                         \n",
       "Chennai Super Kings          51.0  58.0  54.0  68.0  \n",
       "Deccan Chargers              38.0  37.0  23.0  19.0  \n",
       "Delhi Daredevils             56.0  44.0  59.0  50.0  \n",
       "Gujarat Lions                 7.0   9.0   9.0   4.0  \n",
       "Kings XI Punjab              39.0  57.0  53.0  60.0  \n",
       "Kochi Tuskers Kerala          3.0   4.0   5.0   2.0  \n",
       "Kolkata Knight Riders        55.0  52.0  45.0  34.0  \n",
       "Mumbai Indians               60.0  86.0  72.0  89.0  \n",
       "Pune Warriors                13.0  12.0  18.0  19.0  \n",
       "Rajasthan Royals             45.0  34.0  37.0  26.0  \n",
       "Rising Pune Supergiant        2.0   2.0  14.0  11.0  \n",
       "Rising Pune Supergiants       6.0   9.0   2.0   9.0  \n",
       "Royal Challengers Bangalore  61.0  82.0  74.0  71.0  \n",
       "Sunrisers Hyderabad          18.0  37.0  42.0  28.0  "
      ]
     },
     "execution_count": 20,
     "metadata": {},
     "output_type": "execute_result"
    }
   ],
   "source": [
    "mask = new['batsman_runs'] == 6 # filtering sixes\n",
    "six = new[mask] # dataframe of sixes\n",
    "pt = six.pivot_table(index=\"batting_team\", columns=\"over\", values=\"batsman_runs\", aggfunc=\"count\") # pivot table\n",
    "pt"
   ]
  },
  {
   "cell_type": "code",
   "execution_count": 21,
   "id": "156acc20",
   "metadata": {},
   "outputs": [
    {
     "data": {
      "text/plain": [
       "<Axes: xlabel='over', ylabel='batting_team'>"
      ]
     },
     "execution_count": 21,
     "metadata": {},
     "output_type": "execute_result"
    },
    {
     "data": {
      "image/png": "[encoded data removed]",
      "text/plain": [
       "<Figure size 640x480 with 2 Axes>"
      ]
     },
     "metadata": {},
     "output_type": "display_data"
    }
   ],
   "source": [
    "import seaborn as sms\n",
    "sms.heatmap(pt) # heatmap"
   ]
  },
  {
   "cell_type": "code",
   "execution_count": 22,
   "id": "adf8d466",
   "metadata": {},
   "outputs": [
    {
     "name": "stdout",
     "output_type": "stream",
     "text": [
      "  Region Product  Sales\n",
      "0  North       A    100\n",
      "1  South       A    150\n",
      "2   East       A    200\n",
      "3   West       A    130\n",
      "4  North       B    300\n",
      "5  South       B    250\n",
      "6   East       B    220\n",
      "7   West       B    280\n"
     ]
    }
   ],
   "source": [
    "data = {\n",
    "    \"Region\": [\"North\", \"South\", \"East\", \"West\", \"North\", \"South\", \"East\", \"West\"],\n",
    "    \"Product\": [\"A\", \"A\", \"A\", \"A\", \"B\", \"B\", \"B\", \"B\"],\n",
    "    \"Sales\": [100, 150, 200, 130, 300, 250, 220, 280]\n",
    "}\n",
    "\n",
    "df=pd.DataFrame(data)\n",
    "print(df)"
   ]
  },
  {
   "cell_type": "code",
   "execution_count": 24,
   "id": "5d5dec48",
   "metadata": {},
   "outputs": [
    {
     "data": {
      "application/vnd.microsoft.datawrangler.viewer.v0+json": {
       "columns": [
        {
         "name": "index",
         "rawType": "int64",
         "type": "integer"
        },
        {
         "name": "batting_team",
         "rawType": "object",
         "type": "string"
        },
        {
         "name": "batsman_runs",
         "rawType": "int64",
         "type": "integer"
        },
        {
         "name": "over",
         "rawType": "int64",
         "type": "integer"
        }
       ],
       "ref": "1092693a-d08c-4281-aa9e-91bac741523d",
       "rows": [
        [
         "10",
         "Sunrisers Hyderabad",
         "6",
         "2"
        ],
        [
         "47",
         "Sunrisers Hyderabad",
         "6",
         "8"
        ],
        [
         "75",
         "Sunrisers Hyderabad",
         "6",
         "13"
        ],
        [
         "89",
         "Sunrisers Hyderabad",
         "6",
         "15"
        ],
        [
         "91",
         "Sunrisers Hyderabad",
         "6",
         "15"
        ]
       ],
       "shape": {
        "columns": 3,
        "rows": 5
       }
      },
      "text/html": [
       "<div>\n",
       "<style scoped>\n",
       "    .dataframe tbody tr th:only-of-type {\n",
       "        vertical-align: middle;\n",
       "    }\n",
       "\n",
       "    .dataframe tbody tr th {\n",
       "        vertical-align: top;\n",
       "    }\n",
       "\n",
       "    .dataframe thead th {\n",
       "        text-align: right;\n",
       "    }\n",
       "</style>\n",
       "<table border=\"1\" class=\"dataframe\">\n",
       "  <thead>\n",
       "    <tr style=\"text-align: right;\">\n",
       "      <th></th>\n",
       "      <th>batting_team</th>\n",
       "      <th>batsman_runs</th>\n",
       "      <th>over</th>\n",
       "    </tr>\n",
       "  </thead>\n",
       "  <tbody>\n",
       "    <tr>\n",
       "      <th>10</th>\n",
       "      <td>Sunrisers Hyderabad</td>\n",
       "      <td>6</td>\n",
       "      <td>2</td>\n",
       "    </tr>\n",
       "    <tr>\n",
       "      <th>47</th>\n",
       "      <td>Sunrisers Hyderabad</td>\n",
       "      <td>6</td>\n",
       "      <td>8</td>\n",
       "    </tr>\n",
       "    <tr>\n",
       "      <th>75</th>\n",
       "      <td>Sunrisers Hyderabad</td>\n",
       "      <td>6</td>\n",
       "      <td>13</td>\n",
       "    </tr>\n",
       "    <tr>\n",
       "      <th>89</th>\n",
       "      <td>Sunrisers Hyderabad</td>\n",
       "      <td>6</td>\n",
       "      <td>15</td>\n",
       "    </tr>\n",
       "    <tr>\n",
       "      <th>91</th>\n",
       "      <td>Sunrisers Hyderabad</td>\n",
       "      <td>6</td>\n",
       "      <td>15</td>\n",
       "    </tr>\n",
       "  </tbody>\n",
       "</table>\n",
       "</div>"
      ],
      "text/plain": [
       "           batting_team  batsman_runs  over\n",
       "10  Sunrisers Hyderabad             6     2\n",
       "47  Sunrisers Hyderabad             6     8\n",
       "75  Sunrisers Hyderabad             6    13\n",
       "89  Sunrisers Hyderabad             6    15\n",
       "91  Sunrisers Hyderabad             6    15"
      ]
     },
     "execution_count": 24,
     "metadata": {},
     "output_type": "execute_result"
    }
   ],
   "source": [
    "mask=new['batsman_runs']==6\n",
    "six=new[mask]\n",
    "six[[\"batting_team\",\"batsman_runs\",\"over\"]].head()"
   ]
  },
  {
   "cell_type": "code",
   "execution_count": 28,
   "id": "20ac37be",
   "metadata": {},
   "outputs": [
    {
     "data": {
      "application/vnd.microsoft.datawrangler.viewer.v0+json": {
       "columns": [
        {
         "name": "over",
         "rawType": "int64",
         "type": "integer"
        },
        {
         "name": "Chennai Super Kings",
         "rawType": "float64",
         "type": "float"
        },
        {
         "name": "Deccan Chargers",
         "rawType": "float64",
         "type": "float"
        },
        {
         "name": "Delhi Daredevils",
         "rawType": "float64",
         "type": "float"
        },
        {
         "name": "Gujarat Lions",
         "rawType": "float64",
         "type": "float"
        },
        {
         "name": "Kings XI Punjab",
         "rawType": "float64",
         "type": "float"
        },
        {
         "name": "Kochi Tuskers Kerala",
         "rawType": "float64",
         "type": "float"
        },
        {
         "name": "Kolkata Knight Riders",
         "rawType": "float64",
         "type": "float"
        },
        {
         "name": "Mumbai Indians",
         "rawType": "float64",
         "type": "float"
        },
        {
         "name": "Pune Warriors",
         "rawType": "float64",
         "type": "float"
        },
        {
         "name": "Rajasthan Royals",
         "rawType": "float64",
         "type": "float"
        },
        {
         "name": "Rising Pune Supergiant",
         "rawType": "float64",
         "type": "float"
        },
        {
         "name": "Rising Pune Supergiants",
         "rawType": "float64",
         "type": "float"
        },
        {
         "name": "Royal Challengers Bangalore",
         "rawType": "float64",
         "type": "float"
        },
        {
         "name": "Sunrisers Hyderabad",
         "rawType": "float64",
         "type": "float"
        }
       ],
       "ref": "6cd9b4eb-481a-4368-9d57-ab43756ddf46",
       "rows": [
        [
         "1",
         "5.0",
         "3.0",
         "14.0",
         "4.0",
         "10.0",
         "2.0",
         "10.0",
         "9.0",
         "5.0",
         "12.0",
         "1.0",
         null,
         "20.0",
         "3.0"
        ],
        [
         "2",
         "17.0",
         "21.0",
         "19.0",
         "6.0",
         "19.0",
         "4.0",
         "13.0",
         "17.0",
         "6.0",
         "7.0",
         null,
         "2.0",
         "28.0",
         "12.0"
        ],
        [
         "3",
         "37.0",
         "11.0",
         "30.0",
         "14.0",
         "27.0",
         "3.0",
         "28.0",
         "22.0",
         "6.0",
         "13.0",
         "2.0",
         "1.0",
         "40.0",
         "16.0"
        ],
        [
         "4",
         "34.0",
         "17.0",
         "41.0",
         "9.0",
         "36.0",
         "3.0",
         "35.0",
         "28.0",
         "7.0",
         "21.0",
         "5.0",
         "1.0",
         "43.0",
         "8.0"
        ],
        [
         "5",
         "41.0",
         "27.0",
         "29.0",
         "11.0",
         "30.0",
         "3.0",
         "25.0",
         "43.0",
         "7.0",
         "23.0",
         "8.0",
         "5.0",
         "40.0",
         "17.0"
        ],
        [
         "6",
         "43.0",
         "22.0",
         "27.0",
         "12.0",
         "39.0",
         "3.0",
         "34.0",
         "50.0",
         "3.0",
         "24.0",
         "6.0",
         "5.0",
         "29.0",
         "10.0"
        ],
        [
         "7",
         "22.0",
         "11.0",
         "20.0",
         "10.0",
         "19.0",
         "2.0",
         "26.0",
         "18.0",
         "5.0",
         "15.0",
         "1.0",
         "4.0",
         "18.0",
         "13.0"
        ],
        [
         "8",
         "25.0",
         "13.0",
         "26.0",
         "6.0",
         "35.0",
         "2.0",
         "25.0",
         "23.0",
         "10.0",
         "24.0",
         null,
         "3.0",
         "34.0",
         "19.0"
        ],
        [
         "9",
         "23.0",
         "17.0",
         "32.0",
         "11.0",
         "36.0",
         "1.0",
         "27.0",
         "35.0",
         "9.0",
         "20.0",
         "3.0",
         "1.0",
         "47.0",
         "15.0"
        ],
        [
         "10",
         "23.0",
         "14.0",
         "24.0",
         "8.0",
         "29.0",
         "3.0",
         "21.0",
         "22.0",
         "6.0",
         "26.0",
         "8.0",
         "1.0",
         "36.0",
         "12.0"
        ],
        [
         "11",
         "36.0",
         "15.0",
         "34.0",
         "5.0",
         "37.0",
         "1.0",
         "34.0",
         "33.0",
         "13.0",
         "30.0",
         "3.0",
         "2.0",
         "47.0",
         "11.0"
        ],
        [
         "12",
         "36.0",
         "26.0",
         "38.0",
         "7.0",
         "38.0",
         "3.0",
         "32.0",
         "49.0",
         "5.0",
         "33.0",
         "2.0",
         "2.0",
         "36.0",
         "11.0"
        ],
        [
         "13",
         "35.0",
         "23.0",
         "37.0",
         "5.0",
         "47.0",
         "2.0",
         "42.0",
         "51.0",
         "10.0",
         "39.0",
         "7.0",
         "1.0",
         "51.0",
         "19.0"
        ],
        [
         "14",
         "45.0",
         "22.0",
         "35.0",
         "8.0",
         "41.0",
         "3.0",
         "31.0",
         "50.0",
         "13.0",
         "38.0",
         "4.0",
         "1.0",
         "53.0",
         "18.0"
        ],
        [
         "15",
         "43.0",
         "20.0",
         "28.0",
         "5.0",
         "51.0",
         "4.0",
         "40.0",
         "53.0",
         "13.0",
         "34.0",
         "5.0",
         "7.0",
         "54.0",
         "33.0"
        ],
        [
         "16",
         "46.0",
         "21.0",
         "43.0",
         "5.0",
         "59.0",
         null,
         "50.0",
         "66.0",
         "16.0",
         "37.0",
         "5.0",
         "6.0",
         "71.0",
         "22.0"
        ],
        [
         "17",
         "51.0",
         "38.0",
         "56.0",
         "7.0",
         "39.0",
         "3.0",
         "55.0",
         "60.0",
         "13.0",
         "45.0",
         "2.0",
         "6.0",
         "61.0",
         "18.0"
        ],
        [
         "18",
         "58.0",
         "37.0",
         "44.0",
         "9.0",
         "57.0",
         "4.0",
         "52.0",
         "86.0",
         "12.0",
         "34.0",
         "2.0",
         "9.0",
         "82.0",
         "37.0"
        ],
        [
         "19",
         "54.0",
         "23.0",
         "59.0",
         "9.0",
         "53.0",
         "5.0",
         "45.0",
         "72.0",
         "18.0",
         "37.0",
         "14.0",
         "2.0",
         "74.0",
         "42.0"
        ],
        [
         "20",
         "68.0",
         "19.0",
         "50.0",
         "4.0",
         "60.0",
         "2.0",
         "34.0",
         "89.0",
         "19.0",
         "26.0",
         "11.0",
         "9.0",
         "71.0",
         "28.0"
        ]
       ],
       "shape": {
        "columns": 14,
        "rows": 20
       }
      },
      "text/html": [
       "<div>\n",
       "<style scoped>\n",
       "    .dataframe tbody tr th:only-of-type {\n",
       "        vertical-align: middle;\n",
       "    }\n",
       "\n",
       "    .dataframe tbody tr th {\n",
       "        vertical-align: top;\n",
       "    }\n",
       "\n",
       "    .dataframe thead th {\n",
       "        text-align: right;\n",
       "    }\n",
       "</style>\n",
       "<table border=\"1\" class=\"dataframe\">\n",
       "  <thead>\n",
       "    <tr style=\"text-align: right;\">\n",
       "      <th>batting_team</th>\n",
       "      <th>Chennai Super Kings</th>\n",
       "      <th>Deccan Chargers</th>\n",
       "      <th>Delhi Daredevils</th>\n",
       "      <th>Gujarat Lions</th>\n",
       "      <th>Kings XI Punjab</th>\n",
       "      <th>Kochi Tuskers Kerala</th>\n",
       "      <th>Kolkata Knight Riders</th>\n",
       "      <th>Mumbai Indians</th>\n",
       "      <th>Pune Warriors</th>\n",
       "      <th>Rajasthan Royals</th>\n",
       "      <th>Rising Pune Supergiant</th>\n",
       "      <th>Rising Pune Supergiants</th>\n",
       "      <th>Royal Challengers Bangalore</th>\n",
       "      <th>Sunrisers Hyderabad</th>\n",
       "    </tr>\n",
       "    <tr>\n",
       "      <th>over</th>\n",
       "      <th></th>\n",
       "      <th></th>\n",
       "      <th></th>\n",
       "      <th></th>\n",
       "      <th></th>\n",
       "      <th></th>\n",
       "      <th></th>\n",
       "      <th></th>\n",
       "      <th></th>\n",
       "      <th></th>\n",
       "      <th></th>\n",
       "      <th></th>\n",
       "      <th></th>\n",
       "      <th></th>\n",
       "    </tr>\n",
       "  </thead>\n",
       "  <tbody>\n",
       "    <tr>\n",
       "      <th>1</th>\n",
       "      <td>5.0</td>\n",
       "      <td>3.0</td>\n",
       "      <td>14.0</td>\n",
       "      <td>4.0</td>\n",
       "      <td>10.0</td>\n",
       "      <td>2.0</td>\n",
       "      <td>10.0</td>\n",
       "      <td>9.0</td>\n",
       "      <td>5.0</td>\n",
       "      <td>12.0</td>\n",
       "      <td>1.0</td>\n",
       "      <td>NaN</td>\n",
       "      <td>20.0</td>\n",
       "      <td>3.0</td>\n",
       "    </tr>\n",
       "    <tr>\n",
       "      <th>2</th>\n",
       "      <td>17.0</td>\n",
       "      <td>21.0</td>\n",
       "      <td>19.0</td>\n",
       "      <td>6.0</td>\n",
       "      <td>19.0</td>\n",
       "      <td>4.0</td>\n",
       "      <td>13.0</td>\n",
       "      <td>17.0</td>\n",
       "      <td>6.0</td>\n",
       "      <td>7.0</td>\n",
       "      <td>NaN</td>\n",
       "      <td>2.0</td>\n",
       "      <td>28.0</td>\n",
       "      <td>12.0</td>\n",
       "    </tr>\n",
       "    <tr>\n",
       "      <th>3</th>\n",
       "      <td>37.0</td>\n",
       "      <td>11.0</td>\n",
       "      <td>30.0</td>\n",
       "      <td>14.0</td>\n",
       "      <td>27.0</td>\n",
       "      <td>3.0</td>\n",
       "      <td>28.0</td>\n",
       "      <td>22.0</td>\n",
       "      <td>6.0</td>\n",
       "      <td>13.0</td>\n",
       "      <td>2.0</td>\n",
       "      <td>1.0</td>\n",
       "      <td>40.0</td>\n",
       "      <td>16.0</td>\n",
       "    </tr>\n",
       "    <tr>\n",
       "      <th>4</th>\n",
       "      <td>34.0</td>\n",
       "      <td>17.0</td>\n",
       "      <td>41.0</td>\n",
       "      <td>9.0</td>\n",
       "      <td>36.0</td>\n",
       "      <td>3.0</td>\n",
       "      <td>35.0</td>\n",
       "      <td>28.0</td>\n",
       "      <td>7.0</td>\n",
       "      <td>21.0</td>\n",
       "      <td>5.0</td>\n",
       "      <td>1.0</td>\n",
       "      <td>43.0</td>\n",
       "      <td>8.0</td>\n",
       "    </tr>\n",
       "    <tr>\n",
       "      <th>5</th>\n",
       "      <td>41.0</td>\n",
       "      <td>27.0</td>\n",
       "      <td>29.0</td>\n",
       "      <td>11.0</td>\n",
       "      <td>30.0</td>\n",
       "      <td>3.0</td>\n",
       "      <td>25.0</td>\n",
       "      <td>43.0</td>\n",
       "      <td>7.0</td>\n",
       "      <td>23.0</td>\n",
       "      <td>8.0</td>\n",
       "      <td>5.0</td>\n",
       "      <td>40.0</td>\n",
       "      <td>17.0</td>\n",
       "    </tr>\n",
       "    <tr>\n",
       "      <th>6</th>\n",
       "      <td>43.0</td>\n",
       "      <td>22.0</td>\n",
       "      <td>27.0</td>\n",
       "      <td>12.0</td>\n",
       "      <td>39.0</td>\n",
       "      <td>3.0</td>\n",
       "      <td>34.0</td>\n",
       "      <td>50.0</td>\n",
       "      <td>3.0</td>\n",
       "      <td>24.0</td>\n",
       "      <td>6.0</td>\n",
       "      <td>5.0</td>\n",
       "      <td>29.0</td>\n",
       "      <td>10.0</td>\n",
       "    </tr>\n",
       "    <tr>\n",
       "      <th>7</th>\n",
       "      <td>22.0</td>\n",
       "      <td>11.0</td>\n",
       "      <td>20.0</td>\n",
       "      <td>10.0</td>\n",
       "      <td>19.0</td>\n",
       "      <td>2.0</td>\n",
       "      <td>26.0</td>\n",
       "      <td>18.0</td>\n",
       "      <td>5.0</td>\n",
       "      <td>15.0</td>\n",
       "      <td>1.0</td>\n",
       "      <td>4.0</td>\n",
       "      <td>18.0</td>\n",
       "      <td>13.0</td>\n",
       "    </tr>\n",
       "    <tr>\n",
       "      <th>8</th>\n",
       "      <td>25.0</td>\n",
       "      <td>13.0</td>\n",
       "      <td>26.0</td>\n",
       "      <td>6.0</td>\n",
       "      <td>35.0</td>\n",
       "      <td>2.0</td>\n",
       "      <td>25.0</td>\n",
       "      <td>23.0</td>\n",
       "      <td>10.0</td>\n",
       "      <td>24.0</td>\n",
       "      <td>NaN</td>\n",
       "      <td>3.0</td>\n",
       "      <td>34.0</td>\n",
       "      <td>19.0</td>\n",
       "    </tr>\n",
       "    <tr>\n",
       "      <th>9</th>\n",
       "      <td>23.0</td>\n",
       "      <td>17.0</td>\n",
       "      <td>32.0</td>\n",
       "      <td>11.0</td>\n",
       "      <td>36.0</td>\n",
       "      <td>1.0</td>\n",
       "      <td>27.0</td>\n",
       "      <td>35.0</td>\n",
       "      <td>9.0</td>\n",
       "      <td>20.0</td>\n",
       "      <td>3.0</td>\n",
       "      <td>1.0</td>\n",
       "      <td>47.0</td>\n",
       "      <td>15.0</td>\n",
       "    </tr>\n",
       "    <tr>\n",
       "      <th>10</th>\n",
       "      <td>23.0</td>\n",
       "      <td>14.0</td>\n",
       "      <td>24.0</td>\n",
       "      <td>8.0</td>\n",
       "      <td>29.0</td>\n",
       "      <td>3.0</td>\n",
       "      <td>21.0</td>\n",
       "      <td>22.0</td>\n",
       "      <td>6.0</td>\n",
       "      <td>26.0</td>\n",
       "      <td>8.0</td>\n",
       "      <td>1.0</td>\n",
       "      <td>36.0</td>\n",
       "      <td>12.0</td>\n",
       "    </tr>\n",
       "    <tr>\n",
       "      <th>11</th>\n",
       "      <td>36.0</td>\n",
       "      <td>15.0</td>\n",
       "      <td>34.0</td>\n",
       "      <td>5.0</td>\n",
       "      <td>37.0</td>\n",
       "      <td>1.0</td>\n",
       "      <td>34.0</td>\n",
       "      <td>33.0</td>\n",
       "      <td>13.0</td>\n",
       "      <td>30.0</td>\n",
       "      <td>3.0</td>\n",
       "      <td>2.0</td>\n",
       "      <td>47.0</td>\n",
       "      <td>11.0</td>\n",
       "    </tr>\n",
       "    <tr>\n",
       "      <th>12</th>\n",
       "      <td>36.0</td>\n",
       "      <td>26.0</td>\n",
       "      <td>38.0</td>\n",
       "      <td>7.0</td>\n",
       "      <td>38.0</td>\n",
       "      <td>3.0</td>\n",
       "      <td>32.0</td>\n",
       "      <td>49.0</td>\n",
       "      <td>5.0</td>\n",
       "      <td>33.0</td>\n",
       "      <td>2.0</td>\n",
       "      <td>2.0</td>\n",
       "      <td>36.0</td>\n",
       "      <td>11.0</td>\n",
       "    </tr>\n",
       "    <tr>\n",
       "      <th>13</th>\n",
       "      <td>35.0</td>\n",
       "      <td>23.0</td>\n",
       "      <td>37.0</td>\n",
       "      <td>5.0</td>\n",
       "      <td>47.0</td>\n",
       "      <td>2.0</td>\n",
       "      <td>42.0</td>\n",
       "      <td>51.0</td>\n",
       "      <td>10.0</td>\n",
       "      <td>39.0</td>\n",
       "      <td>7.0</td>\n",
       "      <td>1.0</td>\n",
       "      <td>51.0</td>\n",
       "      <td>19.0</td>\n",
       "    </tr>\n",
       "    <tr>\n",
       "      <th>14</th>\n",
       "      <td>45.0</td>\n",
       "      <td>22.0</td>\n",
       "      <td>35.0</td>\n",
       "      <td>8.0</td>\n",
       "      <td>41.0</td>\n",
       "      <td>3.0</td>\n",
       "      <td>31.0</td>\n",
       "      <td>50.0</td>\n",
       "      <td>13.0</td>\n",
       "      <td>38.0</td>\n",
       "      <td>4.0</td>\n",
       "      <td>1.0</td>\n",
       "      <td>53.0</td>\n",
       "      <td>18.0</td>\n",
       "    </tr>\n",
       "    <tr>\n",
       "      <th>15</th>\n",
       "      <td>43.0</td>\n",
       "      <td>20.0</td>\n",
       "      <td>28.0</td>\n",
       "      <td>5.0</td>\n",
       "      <td>51.0</td>\n",
       "      <td>4.0</td>\n",
       "      <td>40.0</td>\n",
       "      <td>53.0</td>\n",
       "      <td>13.0</td>\n",
       "      <td>34.0</td>\n",
       "      <td>5.0</td>\n",
       "      <td>7.0</td>\n",
       "      <td>54.0</td>\n",
       "      <td>33.0</td>\n",
       "    </tr>\n",
       "    <tr>\n",
       "      <th>16</th>\n",
       "      <td>46.0</td>\n",
       "      <td>21.0</td>\n",
       "      <td>43.0</td>\n",
       "      <td>5.0</td>\n",
       "      <td>59.0</td>\n",
       "      <td>NaN</td>\n",
       "      <td>50.0</td>\n",
       "      <td>66.0</td>\n",
       "      <td>16.0</td>\n",
       "      <td>37.0</td>\n",
       "      <td>5.0</td>\n",
       "      <td>6.0</td>\n",
       "      <td>71.0</td>\n",
       "      <td>22.0</td>\n",
       "    </tr>\n",
       "    <tr>\n",
       "      <th>17</th>\n",
       "      <td>51.0</td>\n",
       "      <td>38.0</td>\n",
       "      <td>56.0</td>\n",
       "      <td>7.0</td>\n",
       "      <td>39.0</td>\n",
       "      <td>3.0</td>\n",
       "      <td>55.0</td>\n",
       "      <td>60.0</td>\n",
       "      <td>13.0</td>\n",
       "      <td>45.0</td>\n",
       "      <td>2.0</td>\n",
       "      <td>6.0</td>\n",
       "      <td>61.0</td>\n",
       "      <td>18.0</td>\n",
       "    </tr>\n",
       "    <tr>\n",
       "      <th>18</th>\n",
       "      <td>58.0</td>\n",
       "      <td>37.0</td>\n",
       "      <td>44.0</td>\n",
       "      <td>9.0</td>\n",
       "      <td>57.0</td>\n",
       "      <td>4.0</td>\n",
       "      <td>52.0</td>\n",
       "      <td>86.0</td>\n",
       "      <td>12.0</td>\n",
       "      <td>34.0</td>\n",
       "      <td>2.0</td>\n",
       "      <td>9.0</td>\n",
       "      <td>82.0</td>\n",
       "      <td>37.0</td>\n",
       "    </tr>\n",
       "    <tr>\n",
       "      <th>19</th>\n",
       "      <td>54.0</td>\n",
       "      <td>23.0</td>\n",
       "      <td>59.0</td>\n",
       "      <td>9.0</td>\n",
       "      <td>53.0</td>\n",
       "      <td>5.0</td>\n",
       "      <td>45.0</td>\n",
       "      <td>72.0</td>\n",
       "      <td>18.0</td>\n",
       "      <td>37.0</td>\n",
       "      <td>14.0</td>\n",
       "      <td>2.0</td>\n",
       "      <td>74.0</td>\n",
       "      <td>42.0</td>\n",
       "    </tr>\n",
       "    <tr>\n",
       "      <th>20</th>\n",
       "      <td>68.0</td>\n",
       "      <td>19.0</td>\n",
       "      <td>50.0</td>\n",
       "      <td>4.0</td>\n",
       "      <td>60.0</td>\n",
       "      <td>2.0</td>\n",
       "      <td>34.0</td>\n",
       "      <td>89.0</td>\n",
       "      <td>19.0</td>\n",
       "      <td>26.0</td>\n",
       "      <td>11.0</td>\n",
       "      <td>9.0</td>\n",
       "      <td>71.0</td>\n",
       "      <td>28.0</td>\n",
       "    </tr>\n",
       "  </tbody>\n",
       "</table>\n",
       "</div>"
      ],
      "text/plain": [
       "batting_team  Chennai Super Kings  Deccan Chargers  Delhi Daredevils  \\\n",
       "over                                                                   \n",
       "1                             5.0              3.0              14.0   \n",
       "2                            17.0             21.0              19.0   \n",
       "3                            37.0             11.0              30.0   \n",
       "4                            34.0             17.0              41.0   \n",
       "5                            41.0             27.0              29.0   \n",
       "6                            43.0             22.0              27.0   \n",
       "7                            22.0             11.0              20.0   \n",
       "8                            25.0             13.0              26.0   \n",
       "9                            23.0             17.0              32.0   \n",
       "10                           23.0             14.0              24.0   \n",
       "11                           36.0             15.0              34.0   \n",
       "12                           36.0             26.0              38.0   \n",
       "13                           35.0             23.0              37.0   \n",
       "14                           45.0             22.0              35.0   \n",
       "15                           43.0             20.0              28.0   \n",
       "16                           46.0             21.0              43.0   \n",
       "17                           51.0             38.0              56.0   \n",
       "18                           58.0             37.0              44.0   \n",
       "19                           54.0             23.0              59.0   \n",
       "20                           68.0             19.0              50.0   \n",
       "\n",
       "batting_team  Gujarat Lions  Kings XI Punjab  Kochi Tuskers Kerala  \\\n",
       "over                                                                 \n",
       "1                       4.0             10.0                   2.0   \n",
       "2                       6.0             19.0                   4.0   \n",
       "3                      14.0             27.0                   3.0   \n",
       "4                       9.0             36.0                   3.0   \n",
       "5                      11.0             30.0                   3.0   \n",
       "6                      12.0             39.0                   3.0   \n",
       "7                      10.0             19.0                   2.0   \n",
       "8                       6.0             35.0                   2.0   \n",
       "9                      11.0             36.0                   1.0   \n",
       "10                      8.0             29.0                   3.0   \n",
       "11                      5.0             37.0                   1.0   \n",
       "12                      7.0             38.0                   3.0   \n",
       "13                      5.0             47.0                   2.0   \n",
       "14                      8.0             41.0                   3.0   \n",
       "15                      5.0             51.0                   4.0   \n",
       "16                      5.0             59.0                   NaN   \n",
       "17                      7.0             39.0                   3.0   \n",
       "18                      9.0             57.0                   4.0   \n",
       "19                      9.0             53.0                   5.0   \n",
       "20                      4.0             60.0                   2.0   \n",
       "\n",
       "batting_team  Kolkata Knight Riders  Mumbai Indians  Pune Warriors  \\\n",
       "over                                                                 \n",
       "1                              10.0             9.0            5.0   \n",
       "2                              13.0            17.0            6.0   \n",
       "3                              28.0            22.0            6.0   \n",
       "4                              35.0            28.0            7.0   \n",
       "5                              25.0            43.0            7.0   \n",
       "6                              34.0            50.0            3.0   \n",
       "7                              26.0            18.0            5.0   \n",
       "8                              25.0            23.0           10.0   \n",
       "9                              27.0            35.0            9.0   \n",
       "10                             21.0            22.0            6.0   \n",
       "11                             34.0            33.0           13.0   \n",
       "12                             32.0            49.0            5.0   \n",
       "13                             42.0            51.0           10.0   \n",
       "14                             31.0            50.0           13.0   \n",
       "15                             40.0            53.0           13.0   \n",
       "16                             50.0            66.0           16.0   \n",
       "17                             55.0            60.0           13.0   \n",
       "18                             52.0            86.0           12.0   \n",
       "19                             45.0            72.0           18.0   \n",
       "20                             34.0            89.0           19.0   \n",
       "\n",
       "batting_team  Rajasthan Royals  Rising Pune Supergiant  \\\n",
       "over                                                     \n",
       "1                         12.0                     1.0   \n",
       "2                          7.0                     NaN   \n",
       "3                         13.0                     2.0   \n",
       "4                         21.0                     5.0   \n",
       "5                         23.0                     8.0   \n",
       "6                         24.0                     6.0   \n",
       "7                         15.0                     1.0   \n",
       "8                         24.0                     NaN   \n",
       "9                         20.0                     3.0   \n",
       "10                        26.0                     8.0   \n",
       "11                        30.0                     3.0   \n",
       "12                        33.0                     2.0   \n",
       "13                        39.0                     7.0   \n",
       "14                        38.0                     4.0   \n",
       "15                        34.0                     5.0   \n",
       "16                        37.0                     5.0   \n",
       "17                        45.0                     2.0   \n",
       "18                        34.0                     2.0   \n",
       "19                        37.0                    14.0   \n",
       "20                        26.0                    11.0   \n",
       "\n",
       "batting_team  Rising Pune Supergiants  Royal Challengers Bangalore  \\\n",
       "over                                                                 \n",
       "1                                 NaN                         20.0   \n",
       "2                                 2.0                         28.0   \n",
       "3                                 1.0                         40.0   \n",
       "4                                 1.0                         43.0   \n",
       "5                                 5.0                         40.0   \n",
       "6                                 5.0                         29.0   \n",
       "7                                 4.0                         18.0   \n",
       "8                                 3.0                         34.0   \n",
       "9                                 1.0                         47.0   \n",
       "10                                1.0                         36.0   \n",
       "11                                2.0                         47.0   \n",
       "12                                2.0                         36.0   \n",
       "13                                1.0                         51.0   \n",
       "14                                1.0                         53.0   \n",
       "15                                7.0                         54.0   \n",
       "16                                6.0                         71.0   \n",
       "17                                6.0                         61.0   \n",
       "18                                9.0                         82.0   \n",
       "19                                2.0                         74.0   \n",
       "20                                9.0                         71.0   \n",
       "\n",
       "batting_team  Sunrisers Hyderabad  \n",
       "over                               \n",
       "1                             3.0  \n",
       "2                            12.0  \n",
       "3                            16.0  \n",
       "4                             8.0  \n",
       "5                            17.0  \n",
       "6                            10.0  \n",
       "7                            13.0  \n",
       "8                            19.0  \n",
       "9                            15.0  \n",
       "10                           12.0  \n",
       "11                           11.0  \n",
       "12                           11.0  \n",
       "13                           19.0  \n",
       "14                           18.0  \n",
       "15                           33.0  \n",
       "16                           22.0  \n",
       "17                           18.0  \n",
       "18                           37.0  \n",
       "19                           42.0  \n",
       "20                           28.0  "
      ]
     },
     "execution_count": 28,
     "metadata": {},
     "output_type": "execute_result"
    }
   ],
   "source": [
    "mask=new['batsman_runs']==6\n",
    "six=new[mask]\n",
    "six[[\"batting_team\",\"batsman_runs\",\"over\"]].head()\n",
    "pt=six.pivot_table(index='over',columns='batting_team',values='batsman_runs',aggfunc='count')\n",
    "pt"
   ]
  },
  {
   "cell_type": "code",
   "execution_count": 29,
   "id": "03debc73",
   "metadata": {},
   "outputs": [
    {
     "data": {
      "application/vnd.microsoft.datawrangler.viewer.v0+json": {
       "columns": [
        {
         "name": "batting_team",
         "rawType": "object",
         "type": "string"
        },
        {
         "name": "2008",
         "rawType": "float64",
         "type": "float"
        },
        {
         "name": "2009",
         "rawType": "float64",
         "type": "float"
        },
        {
         "name": "2010",
         "rawType": "float64",
         "type": "float"
        },
        {
         "name": "2011",
         "rawType": "float64",
         "type": "float"
        },
        {
         "name": "2012",
         "rawType": "float64",
         "type": "float"
        },
        {
         "name": "2013",
         "rawType": "float64",
         "type": "float"
        },
        {
         "name": "2014",
         "rawType": "float64",
         "type": "float"
        },
        {
         "name": "2015",
         "rawType": "float64",
         "type": "float"
        },
        {
         "name": "2016",
         "rawType": "float64",
         "type": "float"
        },
        {
         "name": "2017",
         "rawType": "float64",
         "type": "float"
        }
       ],
       "ref": "9010e87e-fe4d-4090-ad6a-4631221d4377",
       "rows": [
        [
         "Chennai Super Kings",
         "86.0",
         "73.0",
         "98.0",
         "91.0",
         "102.0",
         "84.0",
         "112.0",
         "96.0",
         null,
         null
        ],
        [
         "Deccan Chargers",
         "92.0",
         "99.0",
         "84.0",
         "48.0",
         "77.0",
         null,
         null,
         null,
         null,
         null
        ],
        [
         "Delhi Daredevils",
         "54.0",
         "51.0",
         "58.0",
         "75.0",
         "97.0",
         "52.0",
         "63.0",
         "84.0",
         "65.0",
         "87.0"
        ],
        [
         "Gujarat Lions",
         null,
         null,
         null,
         null,
         null,
         null,
         null,
         null,
         "63.0",
         "92.0"
        ],
        [
         "Kings XI Punjab",
         "95.0",
         "61.0",
         "58.0",
         "74.0",
         "61.0",
         "65.0",
         "127.0",
         "79.0",
         "54.0",
         "88.0"
        ],
        [
         "Kochi Tuskers Kerala",
         null,
         null,
         null,
         "53.0",
         null,
         null,
         null,
         null,
         null,
         null
        ],
        [
         "Kolkata Knight Riders",
         "76.0",
         "56.0",
         "63.0",
         "45.0",
         "69.0",
         "57.0",
         "77.0",
         "64.0",
         "65.0",
         "87.0"
        ],
        [
         "Mumbai Indians",
         "76.0",
         "54.0",
         "75.0",
         "57.0",
         "80.0",
         "117.0",
         "86.0",
         "120.0",
         "93.0",
         "118.0"
        ],
        [
         "Pune Warriors",
         null,
         null,
         null,
         "60.0",
         "60.0",
         "76.0",
         null,
         null,
         null,
         null
        ],
        [
         "Rajasthan Royals",
         "85.0",
         "47.0",
         "74.0",
         "42.0",
         "69.0",
         "70.0",
         "86.0",
         "65.0",
         null,
         null
        ],
        [
         "Rising Pune Supergiant",
         null,
         null,
         null,
         null,
         null,
         null,
         null,
         null,
         null,
         "89.0"
        ],
        [
         "Rising Pune Supergiants",
         null,
         null,
         null,
         null,
         null,
         null,
         null,
         null,
         "68.0",
         null
        ],
        [
         "Royal Challengers Bangalore",
         "59.0",
         "67.0",
         "77.0",
         "94.0",
         "118.0",
         "106.0",
         "92.0",
         "105.0",
         "142.0",
         "75.0"
        ],
        [
         "Sunrisers Hyderabad",
         null,
         null,
         null,
         null,
         null,
         "54.0",
         "72.0",
         "79.0",
         "89.0",
         "70.0"
        ]
       ],
       "shape": {
        "columns": 10,
        "rows": 14
       }
      },
      "text/html": [
       "<div>\n",
       "<style scoped>\n",
       "    .dataframe tbody tr th:only-of-type {\n",
       "        vertical-align: middle;\n",
       "    }\n",
       "\n",
       "    .dataframe tbody tr th {\n",
       "        vertical-align: top;\n",
       "    }\n",
       "\n",
       "    .dataframe thead th {\n",
       "        text-align: right;\n",
       "    }\n",
       "</style>\n",
       "<table border=\"1\" class=\"dataframe\">\n",
       "  <thead>\n",
       "    <tr style=\"text-align: right;\">\n",
       "      <th>season</th>\n",
       "      <th>2008</th>\n",
       "      <th>2009</th>\n",
       "      <th>2010</th>\n",
       "      <th>2011</th>\n",
       "      <th>2012</th>\n",
       "      <th>2013</th>\n",
       "      <th>2014</th>\n",
       "      <th>2015</th>\n",
       "      <th>2016</th>\n",
       "      <th>2017</th>\n",
       "    </tr>\n",
       "    <tr>\n",
       "      <th>batting_team</th>\n",
       "      <th></th>\n",
       "      <th></th>\n",
       "      <th></th>\n",
       "      <th></th>\n",
       "      <th></th>\n",
       "      <th></th>\n",
       "      <th></th>\n",
       "      <th></th>\n",
       "      <th></th>\n",
       "      <th></th>\n",
       "    </tr>\n",
       "  </thead>\n",
       "  <tbody>\n",
       "    <tr>\n",
       "      <th>Chennai Super Kings</th>\n",
       "      <td>86.0</td>\n",
       "      <td>73.0</td>\n",
       "      <td>98.0</td>\n",
       "      <td>91.0</td>\n",
       "      <td>102.0</td>\n",
       "      <td>84.0</td>\n",
       "      <td>112.0</td>\n",
       "      <td>96.0</td>\n",
       "      <td>NaN</td>\n",
       "      <td>NaN</td>\n",
       "    </tr>\n",
       "    <tr>\n",
       "      <th>Deccan Chargers</th>\n",
       "      <td>92.0</td>\n",
       "      <td>99.0</td>\n",
       "      <td>84.0</td>\n",
       "      <td>48.0</td>\n",
       "      <td>77.0</td>\n",
       "      <td>NaN</td>\n",
       "      <td>NaN</td>\n",
       "      <td>NaN</td>\n",
       "      <td>NaN</td>\n",
       "      <td>NaN</td>\n",
       "    </tr>\n",
       "    <tr>\n",
       "      <th>Delhi Daredevils</th>\n",
       "      <td>54.0</td>\n",
       "      <td>51.0</td>\n",
       "      <td>58.0</td>\n",
       "      <td>75.0</td>\n",
       "      <td>97.0</td>\n",
       "      <td>52.0</td>\n",
       "      <td>63.0</td>\n",
       "      <td>84.0</td>\n",
       "      <td>65.0</td>\n",
       "      <td>87.0</td>\n",
       "    </tr>\n",
       "    <tr>\n",
       "      <th>Gujarat Lions</th>\n",
       "      <td>NaN</td>\n",
       "      <td>NaN</td>\n",
       "      <td>NaN</td>\n",
       "      <td>NaN</td>\n",
       "      <td>NaN</td>\n",
       "      <td>NaN</td>\n",
       "      <td>NaN</td>\n",
       "      <td>NaN</td>\n",
       "      <td>63.0</td>\n",
       "      <td>92.0</td>\n",
       "    </tr>\n",
       "    <tr>\n",
       "      <th>Kings XI Punjab</th>\n",
       "      <td>95.0</td>\n",
       "      <td>61.0</td>\n",
       "      <td>58.0</td>\n",
       "      <td>74.0</td>\n",
       "      <td>61.0</td>\n",
       "      <td>65.0</td>\n",
       "      <td>127.0</td>\n",
       "      <td>79.0</td>\n",
       "      <td>54.0</td>\n",
       "      <td>88.0</td>\n",
       "    </tr>\n",
       "    <tr>\n",
       "      <th>Kochi Tuskers Kerala</th>\n",
       "      <td>NaN</td>\n",
       "      <td>NaN</td>\n",
       "      <td>NaN</td>\n",
       "      <td>53.0</td>\n",
       "      <td>NaN</td>\n",
       "      <td>NaN</td>\n",
       "      <td>NaN</td>\n",
       "      <td>NaN</td>\n",
       "      <td>NaN</td>\n",
       "      <td>NaN</td>\n",
       "    </tr>\n",
       "    <tr>\n",
       "      <th>Kolkata Knight Riders</th>\n",
       "      <td>76.0</td>\n",
       "      <td>56.0</td>\n",
       "      <td>63.0</td>\n",
       "      <td>45.0</td>\n",
       "      <td>69.0</td>\n",
       "      <td>57.0</td>\n",
       "      <td>77.0</td>\n",
       "      <td>64.0</td>\n",
       "      <td>65.0</td>\n",
       "      <td>87.0</td>\n",
       "    </tr>\n",
       "    <tr>\n",
       "      <th>Mumbai Indians</th>\n",
       "      <td>76.0</td>\n",
       "      <td>54.0</td>\n",
       "      <td>75.0</td>\n",
       "      <td>57.0</td>\n",
       "      <td>80.0</td>\n",
       "      <td>117.0</td>\n",
       "      <td>86.0</td>\n",
       "      <td>120.0</td>\n",
       "      <td>93.0</td>\n",
       "      <td>118.0</td>\n",
       "    </tr>\n",
       "    <tr>\n",
       "      <th>Pune Warriors</th>\n",
       "      <td>NaN</td>\n",
       "      <td>NaN</td>\n",
       "      <td>NaN</td>\n",
       "      <td>60.0</td>\n",
       "      <td>60.0</td>\n",
       "      <td>76.0</td>\n",
       "      <td>NaN</td>\n",
       "      <td>NaN</td>\n",
       "      <td>NaN</td>\n",
       "      <td>NaN</td>\n",
       "    </tr>\n",
       "    <tr>\n",
       "      <th>Rajasthan Royals</th>\n",
       "      <td>85.0</td>\n",
       "      <td>47.0</td>\n",
       "      <td>74.0</td>\n",
       "      <td>42.0</td>\n",
       "      <td>69.0</td>\n",
       "      <td>70.0</td>\n",
       "      <td>86.0</td>\n",
       "      <td>65.0</td>\n",
       "      <td>NaN</td>\n",
       "      <td>NaN</td>\n",
       "    </tr>\n",
       "    <tr>\n",
       "      <th>Rising Pune Supergiant</th>\n",
       "      <td>NaN</td>\n",
       "      <td>NaN</td>\n",
       "      <td>NaN</td>\n",
       "      <td>NaN</td>\n",
       "      <td>NaN</td>\n",
       "      <td>NaN</td>\n",
       "      <td>NaN</td>\n",
       "      <td>NaN</td>\n",
       "      <td>NaN</td>\n",
       "      <td>89.0</td>\n",
       "    </tr>\n",
       "    <tr>\n",
       "      <th>Rising Pune Supergiants</th>\n",
       "      <td>NaN</td>\n",
       "      <td>NaN</td>\n",
       "      <td>NaN</td>\n",
       "      <td>NaN</td>\n",
       "      <td>NaN</td>\n",
       "      <td>NaN</td>\n",
       "      <td>NaN</td>\n",
       "      <td>NaN</td>\n",
       "      <td>68.0</td>\n",
       "      <td>NaN</td>\n",
       "    </tr>\n",
       "    <tr>\n",
       "      <th>Royal Challengers Bangalore</th>\n",
       "      <td>59.0</td>\n",
       "      <td>67.0</td>\n",
       "      <td>77.0</td>\n",
       "      <td>94.0</td>\n",
       "      <td>118.0</td>\n",
       "      <td>106.0</td>\n",
       "      <td>92.0</td>\n",
       "      <td>105.0</td>\n",
       "      <td>142.0</td>\n",
       "      <td>75.0</td>\n",
       "    </tr>\n",
       "    <tr>\n",
       "      <th>Sunrisers Hyderabad</th>\n",
       "      <td>NaN</td>\n",
       "      <td>NaN</td>\n",
       "      <td>NaN</td>\n",
       "      <td>NaN</td>\n",
       "      <td>NaN</td>\n",
       "      <td>54.0</td>\n",
       "      <td>72.0</td>\n",
       "      <td>79.0</td>\n",
       "      <td>89.0</td>\n",
       "      <td>70.0</td>\n",
       "    </tr>\n",
       "  </tbody>\n",
       "</table>\n",
       "</div>"
      ],
      "text/plain": [
       "season                       2008  2009  2010  2011   2012   2013   2014  \\\n",
       "batting_team                                                               \n",
       "Chennai Super Kings          86.0  73.0  98.0  91.0  102.0   84.0  112.0   \n",
       "Deccan Chargers              92.0  99.0  84.0  48.0   77.0    NaN    NaN   \n",
       "Delhi Daredevils             54.0  51.0  58.0  75.0   97.0   52.0   63.0   \n",
       "Gujarat Lions                 NaN   NaN   NaN   NaN    NaN    NaN    NaN   \n",
       "Kings XI Punjab              95.0  61.0  58.0  74.0   61.0   65.0  127.0   \n",
       "Kochi Tuskers Kerala          NaN   NaN   NaN  53.0    NaN    NaN    NaN   \n",
       "Kolkata Knight Riders        76.0  56.0  63.0  45.0   69.0   57.0   77.0   \n",
       "Mumbai Indians               76.0  54.0  75.0  57.0   80.0  117.0   86.0   \n",
       "Pune Warriors                 NaN   NaN   NaN  60.0   60.0   76.0    NaN   \n",
       "Rajasthan Royals             85.0  47.0  74.0  42.0   69.0   70.0   86.0   \n",
       "Rising Pune Supergiant        NaN   NaN   NaN   NaN    NaN    NaN    NaN   \n",
       "Rising Pune Supergiants       NaN   NaN   NaN   NaN    NaN    NaN    NaN   \n",
       "Royal Challengers Bangalore  59.0  67.0  77.0  94.0  118.0  106.0   92.0   \n",
       "Sunrisers Hyderabad           NaN   NaN   NaN   NaN    NaN   54.0   72.0   \n",
       "\n",
       "season                        2015   2016   2017  \n",
       "batting_team                                      \n",
       "Chennai Super Kings           96.0    NaN    NaN  \n",
       "Deccan Chargers                NaN    NaN    NaN  \n",
       "Delhi Daredevils              84.0   65.0   87.0  \n",
       "Gujarat Lions                  NaN   63.0   92.0  \n",
       "Kings XI Punjab               79.0   54.0   88.0  \n",
       "Kochi Tuskers Kerala           NaN    NaN    NaN  \n",
       "Kolkata Knight Riders         64.0   65.0   87.0  \n",
       "Mumbai Indians               120.0   93.0  118.0  \n",
       "Pune Warriors                  NaN    NaN    NaN  \n",
       "Rajasthan Royals              65.0    NaN    NaN  \n",
       "Rising Pune Supergiant         NaN    NaN   89.0  \n",
       "Rising Pune Supergiants        NaN   68.0    NaN  \n",
       "Royal Challengers Bangalore  105.0  142.0   75.0  \n",
       "Sunrisers Hyderabad           79.0   89.0   70.0  "
      ]
     },
     "execution_count": 29,
     "metadata": {},
     "output_type": "execute_result"
    }
   ],
   "source": [
    "mask=new['batsman_runs']==6\n",
    "six=new[mask]\n",
    "six[[\"batting_team\",\"batsman_runs\",\"over\"]].head()\n",
    "pt=six.pivot_table(index='batting_team',columns='season',values='batsman_runs',aggfunc='count')\n",
    "pt"
   ]
  },
  {
   "cell_type": "code",
   "execution_count": null,
   "id": "be875386",
   "metadata": {},
   "outputs": [],
   "source": []
  }
 ],
 "metadata": {
  "kernelspec": {
   "display_name": ".venv",
   "language": "python",
   "name": "python3"
  },
  "language_info": {
   "codemirror_mode": {
    "name": "ipython",
    "version": 3
   },
   "file_extension": ".py",
   "mimetype": "text/x-python",
   "name": "python",
   "nbconvert_exporter": "python",
   "pygments_lexer": "ipython3",
   "version": "3.12.6"
  }
 },
 "nbformat": 4,
 "nbformat_minor": 5
}
